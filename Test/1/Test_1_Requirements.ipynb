{
 "cells": [
  {
   "cell_type": "markdown",
   "id": "0d7f5ab9-089d-4525-8588-455b7e49c787",
   "metadata": {},
   "source": [
    "<ul>\n",
    "<li>Đọc hiểu dữ liệu</li>\n",
    "<li>In giá trị của 1 cột nào đó các giá trị thống kê</li>\n",
    "<li>Kiểm tra dữ liệu có khuyết thiếu không</li>\n",
    "    <ul>\n",
    "        <li>Toàn bộ dữ liệu</li>\n",
    "        <li>Theo cột cụ thể</li>\n",
    "        <li>Cách xử lý</li>\n",
    "        <ul><li>Xóa hết</li><li>Thay thế</li></ul>\n",
    "    </ul>\n",
    "<li>Vẽ biểu đồ (tốt thì có thể dùng SeaBorn, nhận x)</li>\n",
    "    <ul>\n",
    "        <li>Không điều kiện</li>        \n",
    "        <li>Có điều kiện</li>\n",
    "        <ul>\n",
    "            <li>Lọc dữ liệu</li>\n",
    "            <li>Nhóm dữ liệu</li>\n",
    "        </ul>\n",
    "    </ul>\n",
    "<li>Xây dựng mô hình dự đoán (có điều kiện, không điều kiện)</li>\n",
    "<ul><li>Hồi quy</li><li>Cây quyết định</li><li>Ma trận nhầm lẫn</li></ul>\n",
    "<ul>"
   ]
  }
 ],
 "metadata": {
  "kernelspec": {
   "display_name": "Python 3 (ipykernel)",
   "language": "python",
   "name": "python3"
  },
  "language_info": {
   "codemirror_mode": {
    "name": "ipython",
    "version": 3
   },
   "file_extension": ".py",
   "mimetype": "text/x-python",
   "name": "python",
   "nbconvert_exporter": "python",
   "pygments_lexer": "ipython3",
   "version": "3.9.17"
  }
 },
 "nbformat": 4,
 "nbformat_minor": 5
}
