{
 "cells": [
  {
   "cell_type": "markdown",
   "id": "0f411aeb-02e8-4764-afde-86dcce9e1735",
   "metadata": {},
   "source": [
    "Đề 50"
   ]
  },
  {
   "cell_type": "markdown",
   "id": "e17c5ded",
   "metadata": {},
   "source": [
    "# Dạng bình thường"
   ]
  },
  {
   "cell_type": "code",
   "execution_count": 590,
   "id": "bced9889-9448-45e8-a388-ecb9f1e9853e",
   "metadata": {},
   "outputs": [],
   "source": [
    "import pandas as pd\n",
    "import numpy as np\n",
    "import matplotlib.pyplot as plt\n",
    "from scipy import stats"
   ]
  },
  {
   "cell_type": "code",
   "execution_count": 591,
   "id": "536402df-b04b-45d6-aca3-1832b81ed0a2",
   "metadata": {},
   "outputs": [],
   "source": [
    "df = pd.read_csv(\"../../Data/insurance.csv\")"
   ]
  },
  {
   "cell_type": "code",
   "execution_count": 592,
   "id": "91ee208f-f3f1-47cc-823f-b7c635971a5a",
   "metadata": {},
   "outputs": [
    {
     "name": "stdout",
     "output_type": "stream",
     "text": [
      "Số bản ghi:  1338\n",
      "Số thuộc tính:  7\n",
      "----------\n",
      "10 dòng dữ liệu đầu tiên\n"
     ]
    },
    {
     "data": {
      "text/html": [
       "<div>\n",
       "<style scoped>\n",
       "    .dataframe tbody tr th:only-of-type {\n",
       "        vertical-align: middle;\n",
       "    }\n",
       "\n",
       "    .dataframe tbody tr th {\n",
       "        vertical-align: top;\n",
       "    }\n",
       "\n",
       "    .dataframe thead th {\n",
       "        text-align: right;\n",
       "    }\n",
       "</style>\n",
       "<table border=\"1\" class=\"dataframe\">\n",
       "  <thead>\n",
       "    <tr style=\"text-align: right;\">\n",
       "      <th></th>\n",
       "      <th>age</th>\n",
       "      <th>sex</th>\n",
       "      <th>bmi</th>\n",
       "      <th>children</th>\n",
       "      <th>smoker</th>\n",
       "      <th>region</th>\n",
       "      <th>charges</th>\n",
       "    </tr>\n",
       "  </thead>\n",
       "  <tbody>\n",
       "    <tr>\n",
       "      <th>0</th>\n",
       "      <td>19</td>\n",
       "      <td>female</td>\n",
       "      <td>27.900</td>\n",
       "      <td>0</td>\n",
       "      <td>yes</td>\n",
       "      <td>southwest</td>\n",
       "      <td>16884.92400</td>\n",
       "    </tr>\n",
       "    <tr>\n",
       "      <th>1</th>\n",
       "      <td>18</td>\n",
       "      <td>male</td>\n",
       "      <td>33.770</td>\n",
       "      <td>1</td>\n",
       "      <td>no</td>\n",
       "      <td>southeast</td>\n",
       "      <td>1725.55230</td>\n",
       "    </tr>\n",
       "    <tr>\n",
       "      <th>2</th>\n",
       "      <td>28</td>\n",
       "      <td>male</td>\n",
       "      <td>33.000</td>\n",
       "      <td>3</td>\n",
       "      <td>no</td>\n",
       "      <td>southeast</td>\n",
       "      <td>4449.46200</td>\n",
       "    </tr>\n",
       "    <tr>\n",
       "      <th>3</th>\n",
       "      <td>33</td>\n",
       "      <td>male</td>\n",
       "      <td>22.705</td>\n",
       "      <td>0</td>\n",
       "      <td>no</td>\n",
       "      <td>northwest</td>\n",
       "      <td>21984.47061</td>\n",
       "    </tr>\n",
       "    <tr>\n",
       "      <th>4</th>\n",
       "      <td>32</td>\n",
       "      <td>male</td>\n",
       "      <td>28.880</td>\n",
       "      <td>0</td>\n",
       "      <td>no</td>\n",
       "      <td>northwest</td>\n",
       "      <td>3866.85520</td>\n",
       "    </tr>\n",
       "    <tr>\n",
       "      <th>5</th>\n",
       "      <td>31</td>\n",
       "      <td>female</td>\n",
       "      <td>25.740</td>\n",
       "      <td>0</td>\n",
       "      <td>no</td>\n",
       "      <td>southeast</td>\n",
       "      <td>3756.62160</td>\n",
       "    </tr>\n",
       "    <tr>\n",
       "      <th>6</th>\n",
       "      <td>46</td>\n",
       "      <td>female</td>\n",
       "      <td>33.440</td>\n",
       "      <td>1</td>\n",
       "      <td>no</td>\n",
       "      <td>southeast</td>\n",
       "      <td>8240.58960</td>\n",
       "    </tr>\n",
       "    <tr>\n",
       "      <th>7</th>\n",
       "      <td>37</td>\n",
       "      <td>female</td>\n",
       "      <td>27.740</td>\n",
       "      <td>3</td>\n",
       "      <td>no</td>\n",
       "      <td>northwest</td>\n",
       "      <td>7281.50560</td>\n",
       "    </tr>\n",
       "    <tr>\n",
       "      <th>8</th>\n",
       "      <td>37</td>\n",
       "      <td>male</td>\n",
       "      <td>29.830</td>\n",
       "      <td>2</td>\n",
       "      <td>no</td>\n",
       "      <td>northeast</td>\n",
       "      <td>6406.41070</td>\n",
       "    </tr>\n",
       "    <tr>\n",
       "      <th>9</th>\n",
       "      <td>60</td>\n",
       "      <td>female</td>\n",
       "      <td>25.840</td>\n",
       "      <td>0</td>\n",
       "      <td>no</td>\n",
       "      <td>northwest</td>\n",
       "      <td>28923.13692</td>\n",
       "    </tr>\n",
       "  </tbody>\n",
       "</table>\n",
       "</div>"
      ],
      "text/plain": [
       "   age     sex     bmi  children smoker     region      charges\n",
       "0   19  female  27.900         0    yes  southwest  16884.92400\n",
       "1   18    male  33.770         1     no  southeast   1725.55230\n",
       "2   28    male  33.000         3     no  southeast   4449.46200\n",
       "3   33    male  22.705         0     no  northwest  21984.47061\n",
       "4   32    male  28.880         0     no  northwest   3866.85520\n",
       "5   31  female  25.740         0     no  southeast   3756.62160\n",
       "6   46  female  33.440         1     no  southeast   8240.58960\n",
       "7   37  female  27.740         3     no  northwest   7281.50560\n",
       "8   37    male  29.830         2     no  northeast   6406.41070\n",
       "9   60  female  25.840         0     no  northwest  28923.13692"
      ]
     },
     "execution_count": 592,
     "metadata": {},
     "output_type": "execute_result"
    }
   ],
   "source": [
    "print(\"Số bản ghi: \",df.shape[0])\n",
    "print(\"Số thuộc tính: \",df.shape[1])\n",
    "print(\"-\"*10)\n",
    "print(\"10 dòng dữ liệu đầu tiên\")\n",
    "df.head(10)"
   ]
  },
  {
   "cell_type": "code",
   "execution_count": 593,
   "metadata": {},
   "outputs": [
    {
     "name": "stdout",
     "output_type": "stream",
     "text": [
      "Kiểm tra các giá trị khuyết thiếu\n",
      "----------\n",
      "<class 'pandas.core.frame.DataFrame'>\n",
      "RangeIndex: 1338 entries, 0 to 1337\n",
      "Data columns (total 7 columns):\n",
      " #   Column    Non-Null Count  Dtype  \n",
      "---  ------    --------------  -----  \n",
      " 0   age       1338 non-null   int64  \n",
      " 1   sex       1338 non-null   object \n",
      " 2   bmi       1338 non-null   float64\n",
      " 3   children  1338 non-null   int64  \n",
      " 4   smoker    1338 non-null   object \n",
      " 5   region    1338 non-null   object \n",
      " 6   charges   1338 non-null   float64\n",
      "dtypes: float64(2), int64(2), object(3)\n",
      "memory usage: 73.3+ KB\n",
      "----------\n",
      "Do số Non-Null Count của tất cả thuộc tính \n",
      "đều bằng số dòng hiện có nên không cần thực hiện xóa\n"
     ]
    }
   ],
   "source": [
    "print(\"Kiểm tra các giá trị khuyết thiếu\")\n",
    "print(\"-\"*10)\n",
    "df.info()\n",
    "print(\"-\"*10)\n",
    "print(\"Do số Non-Null Count của tất cả thuộc tính \\nđều bằng số dòng hiện có nên không cần thực hiện xóa\")"
   ]
  },
  {
   "cell_type": "code",
   "execution_count": 594,
   "id": "78448e7e",
   "metadata": {},
   "outputs": [
    {
     "name": "stdout",
     "output_type": "stream",
     "text": [
      "Giá trị lớn nhất của tuổi:  64\n",
      "Giá trị lớn nhất của phí trả:  63770.42801\n",
      "Kiểm tra lại bằng thống kê mô tả: \n",
      "       age      charges\n",
      "max  64.0  63770.42801\n"
     ]
    }
   ],
   "source": [
    "print(\"Giá trị lớn nhất của tuổi: \", df.age.max())\n",
    "print(\"Giá trị lớn nhất của phí trả: \", df.charges.max())\n",
    "print(\"Kiểm tra lại bằng thống kê mô tả: \\n\", df[['age','charges']].describe().loc[['max']])"
   ]
  },
  {
   "cell_type": "code",
   "execution_count": 595,
   "id": "bf4fc037",
   "metadata": {},
   "outputs": [],
   "source": [
    "df_sct = df[df.sex == 'female'][['children','charges']]"
   ]
  },
  {
   "cell_type": "code",
   "execution_count": 596,
   "id": "cd19d745",
   "metadata": {},
   "outputs": [],
   "source": [
    "z = np.abs(stats.zscore(df_sct))\n",
    "df_sct = df_sct[(z<3).all(axis=1)]"
   ]
  },
  {
   "cell_type": "code",
   "execution_count": 597,
   "id": "639485e3",
   "metadata": {},
   "outputs": [
    {
     "data": {
      "text/plain": [
       "<function matplotlib.pyplot.plot(*args, scalex=True, scaley=True, data=None, **kwargs)>"
      ]
     },
     "execution_count": 597,
     "metadata": {},
     "output_type": "execute_result"
    },
    {
     "data": {
      "image/png": "[encoded data removed]",
      "text/plain": [
       "<Figure size 640x480 with 1 Axes>"
      ]
     },
     "metadata": {},
     "output_type": "display_data"
    }
   ],
   "source": [
    "plt.scatter(df_sct.children, df_sct.charges)\n",
    "slope, intercept = np.polyfit(df_sct.children,df_sct.charges,deg=1)\n",
    "plt.plot(df_sct.children, slope*df_sct.children+intercept)\n",
    "plt.xticks(df_sct.children)\n",
    "plt.plot"
   ]
  },
  {
   "cell_type": "markdown",
   "id": "3ce64daa",
   "metadata": {},
   "source": [
    "# Huấn luyện mô hình (Label Encoding)"
   ]
  },
  {
   "cell_type": "code",
   "execution_count": 598,
   "id": "cb68fee4",
   "metadata": {},
   "outputs": [],
   "source": [
    "from sklearn.linear_model import LinearRegression\n",
    "from sklearn.metrics import confusion_matrix, mean_squared_error\n",
    "from sklearn.model_selection import train_test_split\n",
    "from sklearn.metrics import accuracy_score"
   ]
  },
  {
   "cell_type": "code",
   "execution_count": 599,
   "id": "1d2f7349",
   "metadata": {},
   "outputs": [],
   "source": [
    "df_cus = df[df.children == 0].drop(['children'], axis=1)"
   ]
  },
  {
   "cell_type": "code",
   "execution_count": 600,
   "id": "3b867f83",
   "metadata": {},
   "outputs": [],
   "source": [
    "from sklearn.preprocessing import LabelEncoder\n",
    "lb_encode = LabelEncoder()\n",
    "\n",
    "df_cus.sex = lb_encode.fit_transform(df_cus.sex)\n",
    "df_cus.smoker = lb_encode.fit_transform(df_cus.smoker)\n",
    "df_cus.region = lb_encode.fit_transform(df_cus.region)\n"
   ]
  },
  {
   "cell_type": "code",
   "execution_count": 601,
   "id": "4ea40b6b",
   "metadata": {},
   "outputs": [
    {
     "data": {
      "text/plain": [
       "0       3\n",
       "3       1\n",
       "4       1\n",
       "5       2\n",
       "9       1\n",
       "       ..\n",
       "1331    3\n",
       "1334    0\n",
       "1335    2\n",
       "1336    3\n",
       "1337    1\n",
       "Name: region, Length: 574, dtype: int32"
      ]
     },
     "execution_count": 601,
     "metadata": {},
     "output_type": "execute_result"
    }
   ],
   "source": [
    "df_cus.region"
   ]
  },
  {
   "cell_type": "code",
   "execution_count": 602,
   "id": "9bf88022",
   "metadata": {},
   "outputs": [
    {
     "name": "stdout",
     "output_type": "stream",
     "text": [
      "<class 'pandas.core.frame.DataFrame'>\n",
      "Index: 574 entries, 0 to 1337\n",
      "Data columns (total 6 columns):\n",
      " #   Column   Non-Null Count  Dtype  \n",
      "---  ------   --------------  -----  \n",
      " 0   age      574 non-null    int64  \n",
      " 1   sex      574 non-null    int32  \n",
      " 2   bmi      574 non-null    float64\n",
      " 3   smoker   574 non-null    int32  \n",
      " 4   region   574 non-null    int32  \n",
      " 5   charges  574 non-null    float64\n",
      "dtypes: float64(2), int32(3), int64(1)\n",
      "memory usage: 24.7 KB\n"
     ]
    },
    {
     "data": {
      "text/html": [
       "<div>\n",
       "<style scoped>\n",
       "    .dataframe tbody tr th:only-of-type {\n",
       "        vertical-align: middle;\n",
       "    }\n",
       "\n",
       "    .dataframe tbody tr th {\n",
       "        vertical-align: top;\n",
       "    }\n",
       "\n",
       "    .dataframe thead th {\n",
       "        text-align: right;\n",
       "    }\n",
       "</style>\n",
       "<table border=\"1\" class=\"dataframe\">\n",
       "  <thead>\n",
       "    <tr style=\"text-align: right;\">\n",
       "      <th></th>\n",
       "      <th>age</th>\n",
       "      <th>sex</th>\n",
       "      <th>bmi</th>\n",
       "      <th>smoker</th>\n",
       "      <th>region</th>\n",
       "      <th>charges</th>\n",
       "    </tr>\n",
       "  </thead>\n",
       "  <tbody>\n",
       "    <tr>\n",
       "      <th>0</th>\n",
       "      <td>19</td>\n",
       "      <td>0</td>\n",
       "      <td>27.900</td>\n",
       "      <td>1</td>\n",
       "      <td>3</td>\n",
       "      <td>16884.92400</td>\n",
       "    </tr>\n",
       "    <tr>\n",
       "      <th>3</th>\n",
       "      <td>33</td>\n",
       "      <td>1</td>\n",
       "      <td>22.705</td>\n",
       "      <td>0</td>\n",
       "      <td>1</td>\n",
       "      <td>21984.47061</td>\n",
       "    </tr>\n",
       "    <tr>\n",
       "      <th>4</th>\n",
       "      <td>32</td>\n",
       "      <td>1</td>\n",
       "      <td>28.880</td>\n",
       "      <td>0</td>\n",
       "      <td>1</td>\n",
       "      <td>3866.85520</td>\n",
       "    </tr>\n",
       "    <tr>\n",
       "      <th>5</th>\n",
       "      <td>31</td>\n",
       "      <td>0</td>\n",
       "      <td>25.740</td>\n",
       "      <td>0</td>\n",
       "      <td>2</td>\n",
       "      <td>3756.62160</td>\n",
       "    </tr>\n",
       "    <tr>\n",
       "      <th>9</th>\n",
       "      <td>60</td>\n",
       "      <td>0</td>\n",
       "      <td>25.840</td>\n",
       "      <td>0</td>\n",
       "      <td>1</td>\n",
       "      <td>28923.13692</td>\n",
       "    </tr>\n",
       "    <tr>\n",
       "      <th>10</th>\n",
       "      <td>25</td>\n",
       "      <td>1</td>\n",
       "      <td>26.220</td>\n",
       "      <td>0</td>\n",
       "      <td>0</td>\n",
       "      <td>2721.32080</td>\n",
       "    </tr>\n",
       "    <tr>\n",
       "      <th>11</th>\n",
       "      <td>62</td>\n",
       "      <td>0</td>\n",
       "      <td>26.290</td>\n",
       "      <td>1</td>\n",
       "      <td>2</td>\n",
       "      <td>27808.72510</td>\n",
       "    </tr>\n",
       "    <tr>\n",
       "      <th>12</th>\n",
       "      <td>23</td>\n",
       "      <td>1</td>\n",
       "      <td>34.400</td>\n",
       "      <td>0</td>\n",
       "      <td>3</td>\n",
       "      <td>1826.84300</td>\n",
       "    </tr>\n",
       "    <tr>\n",
       "      <th>13</th>\n",
       "      <td>56</td>\n",
       "      <td>0</td>\n",
       "      <td>39.820</td>\n",
       "      <td>0</td>\n",
       "      <td>2</td>\n",
       "      <td>11090.71780</td>\n",
       "    </tr>\n",
       "    <tr>\n",
       "      <th>14</th>\n",
       "      <td>27</td>\n",
       "      <td>1</td>\n",
       "      <td>42.130</td>\n",
       "      <td>1</td>\n",
       "      <td>2</td>\n",
       "      <td>39611.75770</td>\n",
       "    </tr>\n",
       "  </tbody>\n",
       "</table>\n",
       "</div>"
      ],
      "text/plain": [
       "    age  sex     bmi  smoker  region      charges\n",
       "0    19    0  27.900       1       3  16884.92400\n",
       "3    33    1  22.705       0       1  21984.47061\n",
       "4    32    1  28.880       0       1   3866.85520\n",
       "5    31    0  25.740       0       2   3756.62160\n",
       "9    60    0  25.840       0       1  28923.13692\n",
       "10   25    1  26.220       0       0   2721.32080\n",
       "11   62    0  26.290       1       2  27808.72510\n",
       "12   23    1  34.400       0       3   1826.84300\n",
       "13   56    0  39.820       0       2  11090.71780\n",
       "14   27    1  42.130       1       2  39611.75770"
      ]
     },
     "execution_count": 602,
     "metadata": {},
     "output_type": "execute_result"
    }
   ],
   "source": [
    "df_cus.info()\n",
    "df_cus.head(10)"
   ]
  },
  {
   "cell_type": "code",
   "execution_count": 622,
   "id": "100394e4",
   "metadata": {},
   "outputs": [
    {
     "name": "stdout",
     "output_type": "stream",
     "text": [
      "R^2:  0.04695762516375768\n",
      "RMSE:  37.0580704740975\n"
     ]
    }
   ],
   "source": [
    "X = df_cus.drop('bmi', axis=1)\n",
    "y = df_cus.bmi\n",
    "\n",
    "X_train, X_test, y_train, y_test = train_test_split(X, y, test_size=0.2)\n",
    "reg = LinearRegression()\n",
    "reg.fit(X_train, y_train)\n",
    "y_pred = reg.predict(X_test)\n",
    "r_squared = reg.score(X_test, y_test)\n",
    "rmse = mean_squared_error(y_test, y_pred, squared=True)\n",
    "print(\"R^2: \", r_squared)\n",
    "print(\"RMSE: \", rmse)"
   ]
  },
  {
   "cell_type": "code",
   "execution_count": 604,
   "id": "dbba177d",
   "metadata": {},
   "outputs": [
    {
     "name": "stdout",
     "output_type": "stream",
     "text": [
      "[ 0.20853739  0.12736613  0.19810142  0.05824735 -0.02544056  0.1251478\n",
      "  0.081201   -0.01202609 -0.07104589  0.04542972  0.19275921  0.13642276\n",
      " -0.29069562 -0.02570054  0.1319997 ]\n",
      "0.05868691766676891\n",
      "0.1262798612131461\n",
      "[-0.21381822  0.2048848 ]\n"
     ]
    }
   ],
   "source": [
    "from sklearn.model_selection import cross_val_score, KFold\n",
    "\n",
    "kf = KFold(n_splits=15, shuffle=True, random_state=42)\n",
    "cv_score = cross_val_score(reg, X, y, cv=kf)\n",
    "print(cv_score)\n",
    "\n",
    "print(np.mean(cv_score))\n",
    "print(np.std(cv_score))\n",
    "print(np.quantile(cv_score,[0.025,0.975]))"
   ]
  },
  {
   "cell_type": "code",
   "execution_count": 605,
   "id": "705be29c",
   "metadata": {},
   "outputs": [
    {
     "data": {
      "text/plain": [
       "array([24.20922502, 23.40394261])"
      ]
     },
     "execution_count": 605,
     "metadata": {},
     "output_type": "execute_result"
    }
   ],
   "source": [
    "new_data = pd.DataFrame({\"age\":[32,27],\"sex\":[0,1],\"smoker\":[1,1],\"region\":[3,2],\"charges\":[2333.0,99.1]})\n",
    "reg.predict(new_data)"
   ]
  },
  {
   "cell_type": "code",
   "execution_count": 644,
   "id": "79374cab",
   "metadata": {},
   "outputs": [],
   "source": [
    "df_cus['cor_age_bmi'] = df_cus.age*df_cus.bmi"
   ]
  },
  {
   "cell_type": "code",
   "execution_count": 646,
   "id": "cfe8a961",
   "metadata": {},
   "outputs": [
    {
     "data": {
      "text/plain": [
       "0.8373304715637829"
      ]
     },
     "execution_count": 646,
     "metadata": {},
     "output_type": "execute_result"
    }
   ],
   "source": [
    "X = df_cus.drop('bmi', axis=1)\n",
    "y = df_cus.bmi\n",
    "\n",
    "X_train, X_test, y_train, y_test = train_test_split(X, y, test_size=0.2)\n",
    "reg.fit(X_train, y_train)\n",
    "y_pred = reg.predict(X_test)\n",
    "\n",
    "reg.score(X_test, y_test)"
   ]
  },
  {
   "cell_type": "markdown",
   "id": "e9e42850",
   "metadata": {},
   "source": [
    "# Huấn luyện mô hình (One Hot Encoding)"
   ]
  },
  {
   "cell_type": "code",
   "execution_count": 647,
   "id": "1d4fcc1f",
   "metadata": {},
   "outputs": [],
   "source": [
    "from sklearn.preprocessing import OneHotEncoder"
   ]
  },
  {
   "cell_type": "markdown",
   "id": "7934560a",
   "metadata": {},
   "source": [
    "Lọc và lấy dữ liệu"
   ]
  },
  {
   "cell_type": "code",
   "execution_count": 838,
   "id": "a3df804d",
   "metadata": {},
   "outputs": [
    {
     "name": "stdout",
     "output_type": "stream",
     "text": [
      "<class 'pandas.core.frame.DataFrame'>\n",
      "Index: 574 entries, 0 to 1337\n",
      "Data columns (total 6 columns):\n",
      " #   Column   Non-Null Count  Dtype  \n",
      "---  ------   --------------  -----  \n",
      " 0   age      574 non-null    int64  \n",
      " 1   sex      574 non-null    object \n",
      " 2   bmi      574 non-null    float64\n",
      " 3   smoker   574 non-null    object \n",
      " 4   region   574 non-null    object \n",
      " 5   charges  574 non-null    float64\n",
      "dtypes: float64(2), int64(1), object(3)\n",
      "memory usage: 31.4+ KB\n"
     ]
    }
   ],
   "source": [
    "df_cus = df[df.children == 0].drop(['children'], axis=1)\n",
    "df_cus.info()"
   ]
  },
  {
   "cell_type": "markdown",
   "id": "c422bdb7",
   "metadata": {},
   "source": [
    "Chuẩn bị các giá trị cho Features dạng Categorical để mã hóa"
   ]
  },
  {
   "cell_type": "code",
   "execution_count": 839,
   "id": "443917bd",
   "metadata": {},
   "outputs": [],
   "source": [
    "df_cus_vl1 = df_cus.drop(['age','charges','bmi'], axis=1).values\n",
    "X = df_cus_vl1[:, :].astype(str)"
   ]
  },
  {
   "cell_type": "markdown",
   "id": "7f8ec7d5",
   "metadata": {},
   "source": [
    "Đưa vào bộ mã hóa"
   ]
  },
  {
   "cell_type": "code",
   "execution_count": 840,
   "id": "7c7d62c0",
   "metadata": {},
   "outputs": [
    {
     "name": "stderr",
     "output_type": "stream",
     "text": [
      "e:\\anaconda3\\envs\\dami\\lib\\site-packages\\sklearn\\preprocessing\\_encoders.py:975: FutureWarning: `sparse` was renamed to `sparse_output` in version 1.2 and will be removed in 1.4. `sparse_output` is ignored unless you leave `sparse` to its default value.\n",
      "  warnings.warn(\n"
     ]
    },
    {
     "data": {
      "text/html": [
       "<style>#sk-container-id-53 {color: black;}#sk-container-id-53 pre{padding: 0;}#sk-container-id-53 div.sk-toggleable {background-color: white;}#sk-container-id-53 label.sk-toggleable__label {cursor: pointer;display: block;width: 100%;margin-bottom: 0;padding: 0.3em;box-sizing: border-box;text-align: center;}#sk-container-id-53 label.sk-toggleable__label-arrow:before {content: \"▸\";float: left;margin-right: 0.25em;color: #696969;}#sk-container-id-53 label.sk-toggleable__label-arrow:hover:before {color: black;}#sk-container-id-53 div.sk-estimator:hover label.sk-toggleable__label-arrow:before {color: black;}#sk-container-id-53 div.sk-toggleable__content {max-height: 0;max-width: 0;overflow: hidden;text-align: left;background-color: #f0f8ff;}#sk-container-id-53 div.sk-toggleable__content pre {margin: 0.2em;color: black;border-radius: 0.25em;background-color: #f0f8ff;}#sk-container-id-53 input.sk-toggleable__control:checked~div.sk-toggleable__content {max-height: 200px;max-width: 100%;overflow: auto;}#sk-container-id-53 input.sk-toggleable__control:checked~label.sk-toggleable__label-arrow:before {content: \"▾\";}#sk-container-id-53 div.sk-estimator input.sk-toggleable__control:checked~label.sk-toggleable__label {background-color: #d4ebff;}#sk-container-id-53 div.sk-label input.sk-toggleable__control:checked~label.sk-toggleable__label {background-color: #d4ebff;}#sk-container-id-53 input.sk-hidden--visually {border: 0;clip: rect(1px 1px 1px 1px);clip: rect(1px, 1px, 1px, 1px);height: 1px;margin: -1px;overflow: hidden;padding: 0;position: absolute;width: 1px;}#sk-container-id-53 div.sk-estimator {font-family: monospace;background-color: #f0f8ff;border: 1px dotted black;border-radius: 0.25em;box-sizing: border-box;margin-bottom: 0.5em;}#sk-container-id-53 div.sk-estimator:hover {background-color: #d4ebff;}#sk-container-id-53 div.sk-parallel-item::after {content: \"\";width: 100%;border-bottom: 1px solid gray;flex-grow: 1;}#sk-container-id-53 div.sk-label:hover label.sk-toggleable__label {background-color: #d4ebff;}#sk-container-id-53 div.sk-serial::before {content: \"\";position: absolute;border-left: 1px solid gray;box-sizing: border-box;top: 0;bottom: 0;left: 50%;z-index: 0;}#sk-container-id-53 div.sk-serial {display: flex;flex-direction: column;align-items: center;background-color: white;padding-right: 0.2em;padding-left: 0.2em;position: relative;}#sk-container-id-53 div.sk-item {position: relative;z-index: 1;}#sk-container-id-53 div.sk-parallel {display: flex;align-items: stretch;justify-content: center;background-color: white;position: relative;}#sk-container-id-53 div.sk-item::before, #sk-container-id-53 div.sk-parallel-item::before {content: \"\";position: absolute;border-left: 1px solid gray;box-sizing: border-box;top: 0;bottom: 0;left: 50%;z-index: -1;}#sk-container-id-53 div.sk-parallel-item {display: flex;flex-direction: column;z-index: 1;position: relative;background-color: white;}#sk-container-id-53 div.sk-parallel-item:first-child::after {align-self: flex-end;width: 50%;}#sk-container-id-53 div.sk-parallel-item:last-child::after {align-self: flex-start;width: 50%;}#sk-container-id-53 div.sk-parallel-item:only-child::after {width: 0;}#sk-container-id-53 div.sk-dashed-wrapped {border: 1px dashed gray;margin: 0 0.4em 0.5em 0.4em;box-sizing: border-box;padding-bottom: 0.4em;background-color: white;}#sk-container-id-53 div.sk-label label {font-family: monospace;font-weight: bold;display: inline-block;line-height: 1.2em;}#sk-container-id-53 div.sk-label-container {text-align: center;}#sk-container-id-53 div.sk-container {/* jupyter's `normalize.less` sets `[hidden] { display: none; }` but bootstrap.min.css set `[hidden] { display: none !important; }` so we also need the `!important` here to be able to override the default hidden behavior on the sphinx rendered scikit-learn.org. See: https://github.com/scikit-learn/scikit-learn/issues/21755 */display: inline-block !important;position: relative;}#sk-container-id-53 div.sk-text-repr-fallback {display: none;}</style><div id=\"sk-container-id-53\" class=\"sk-top-container\"><div class=\"sk-text-repr-fallback\"><pre>OneHotEncoder(handle_unknown=&#x27;ignore&#x27;, sparse=False, sparse_output=False)</pre><b>In a Jupyter environment, please rerun this cell to show the HTML representation or trust the notebook. <br />On GitHub, the HTML representation is unable to render, please try loading this page with nbviewer.org.</b></div><div class=\"sk-container\" hidden><div class=\"sk-item\"><div class=\"sk-estimator sk-toggleable\"><input class=\"sk-toggleable__control sk-hidden--visually\" id=\"sk-estimator-id-53\" type=\"checkbox\" checked><label for=\"sk-estimator-id-53\" class=\"sk-toggleable__label sk-toggleable__label-arrow\">OneHotEncoder</label><div class=\"sk-toggleable__content\"><pre>OneHotEncoder(handle_unknown=&#x27;ignore&#x27;, sparse=False, sparse_output=False)</pre></div></div></div></div></div>"
      ],
      "text/plain": [
       "OneHotEncoder(handle_unknown='ignore', sparse=False, sparse_output=False)"
      ]
     },
     "execution_count": 840,
     "metadata": {},
     "output_type": "execute_result"
    }
   ],
   "source": [
    "ohe.fit(X)"
   ]
  },
  {
   "cell_type": "markdown",
   "id": "2d6b99fb",
   "metadata": {},
   "source": [
    "Mã hóa Features và chuyển thành DataFrame để ghép với tập dữ liệu sau khi tách riêng các Features dạng Categorical"
   ]
  },
  {
   "cell_type": "code",
   "execution_count": 841,
   "id": "6524743d",
   "metadata": {},
   "outputs": [],
   "source": [
    "X = ohe.transform(X)\n",
    "X = pd.DataFrame(X)"
   ]
  },
  {
   "cell_type": "markdown",
   "id": "8e035673",
   "metadata": {},
   "source": [
    "Đặt lại Index để nối cho khớp, tránh dư thừa"
   ]
  },
  {
   "cell_type": "code",
   "execution_count": 842,
   "id": "63574bf3",
   "metadata": {},
   "outputs": [],
   "source": [
    "df_cus = df_cus.reset_index()"
   ]
  },
  {
   "cell_type": "markdown",
   "id": "c73d8656",
   "metadata": {},
   "source": [
    "Ghép khớp Categorical Features và Numeric Features"
   ]
  },
  {
   "cell_type": "code",
   "execution_count": 843,
   "id": "3fb88c31",
   "metadata": {},
   "outputs": [],
   "source": [
    "new_df = pd.concat([df_cus[['age','charges','bmi']], X], axis=1)"
   ]
  },
  {
   "cell_type": "markdown",
   "id": "db737676",
   "metadata": {},
   "source": [
    "Chuyển các tên cột sang string để đưa vào mô hình học máy"
   ]
  },
  {
   "cell_type": "code",
   "execution_count": 857,
   "id": "17b028eb",
   "metadata": {},
   "outputs": [
    {
     "data": {
      "text/plain": [
       "array(['age', 'charges', 'bmi', '0', '1', '2', '3', '4', '5', '6', '7'],\n",
       "      dtype=object)"
      ]
     },
     "execution_count": 857,
     "metadata": {},
     "output_type": "execute_result"
    }
   ],
   "source": [
    "new_df.columns = new_df.columns.astype(str)"
   ]
  },
  {
   "cell_type": "markdown",
   "id": "474d8d84",
   "metadata": {},
   "source": [
    "Train mô hình"
   ]
  },
  {
   "cell_type": "code",
   "execution_count": 964,
   "id": "6ce3cb3f",
   "metadata": {},
   "outputs": [
    {
     "name": "stdout",
     "output_type": "stream",
     "text": [
      "0.19421554915442674\n"
     ]
    }
   ],
   "source": [
    "X = new_df.drop('bmi', axis=1)\n",
    "y = new_df.bmi\n",
    "\n",
    "X_train, X_test, y_train, y_test = train_test_split(X, y, test_size=0.1)\n",
    "model = LinearRegression()\n",
    "model.fit(X_train, y_train)\n",
    "y_pred = model.predict(X_test)\n",
    "print(model.score(X_test,y_test))"
   ]
  },
  {
   "cell_type": "markdown",
   "id": "9ab5851d",
   "metadata": {},
   "source": [
    "=> Quá thấp"
   ]
  }
 ],
 "metadata": {
  "kernelspec": {
   "display_name": "Python 3 (ipykernel)",
   "language": "python",
   "name": "python3"
  },
  "language_info": {
   "codemirror_mode": {
    "name": "ipython",
    "version": 3
   },
   "file_extension": ".py",
   "mimetype": "text/x-python",
   "name": "python",
   "nbconvert_exporter": "python",
   "pygments_lexer": "ipython3",
   "version": "3.9.17"
  }
 },
 "nbformat": 4,
 "nbformat_minor": 5
}
