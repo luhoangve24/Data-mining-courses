{
 "cells": [
  {
   "cell_type": "code",
   "execution_count": 2,
   "metadata": {},
   "outputs": [],
   "source": [
    "import pandas as pd"
   ]
  },
  {
   "cell_type": "code",
   "execution_count": 55,
   "metadata": {},
   "outputs": [],
   "source": [
    "df = pd.read_csv(\"../../Data/breast-cancer.csv\", header=None)"
   ]
  },
  {
   "cell_type": "code",
   "execution_count": 56,
   "metadata": {},
   "outputs": [
    {
     "name": "stdout",
     "output_type": "stream",
     "text": [
      "<class 'pandas.core.frame.DataFrame'>\n",
      "RangeIndex: 286 entries, 0 to 285\n",
      "Data columns (total 10 columns):\n",
      " #   Column  Non-Null Count  Dtype \n",
      "---  ------  --------------  ----- \n",
      " 0   0       286 non-null    object\n",
      " 1   1       286 non-null    object\n",
      " 2   2       286 non-null    object\n",
      " 3   3       286 non-null    object\n",
      " 4   4       278 non-null    object\n",
      " 5   5       286 non-null    object\n",
      " 6   6       286 non-null    object\n",
      " 7   7       285 non-null    object\n",
      " 8   8       286 non-null    object\n",
      " 9   9       286 non-null    object\n",
      "dtypes: object(10)\n",
      "memory usage: 22.5+ KB\n"
     ]
    }
   ],
   "source": [
    "df.info()"
   ]
  },
  {
   "cell_type": "code",
   "execution_count": 59,
   "metadata": {},
   "outputs": [
    {
     "name": "stdout",
     "output_type": "stream",
     "text": [
      "<class 'pandas.core.frame.DataFrame'>\n",
      "Index: 277 entries, 0 to 285\n",
      "Data columns (total 10 columns):\n",
      " #   Column  Non-Null Count  Dtype \n",
      "---  ------  --------------  ----- \n",
      " 0   0       277 non-null    object\n",
      " 1   1       277 non-null    object\n",
      " 2   2       277 non-null    object\n",
      " 3   3       277 non-null    object\n",
      " 4   4       277 non-null    object\n",
      " 5   5       277 non-null    object\n",
      " 6   6       277 non-null    object\n",
      " 7   7       277 non-null    object\n",
      " 8   8       277 non-null    object\n",
      " 9   9       277 non-null    object\n",
      "dtypes: object(10)\n",
      "memory usage: 23.8+ KB\n"
     ]
    }
   ],
   "source": [
    "df.dropna(inplace=True)\n",
    "df.info()"
   ]
  },
  {
   "cell_type": "code",
   "execution_count": 73,
   "metadata": {},
   "outputs": [
    {
     "name": "stdout",
     "output_type": "stream",
     "text": [
      "(277, 9)\n",
      "(277,)\n"
     ]
    }
   ],
   "source": [
    "df_value = df.values\n",
    "#print(df_value)\n",
    "X = df_value[:, :-1].astype(str)\n",
    "y = df_value[:, -1].astype(str)\n",
    "print(X.shape)\n",
    "print(y.shape)"
   ]
  },
  {
   "cell_type": "code",
   "execution_count": 61,
   "metadata": {},
   "outputs": [],
   "source": [
    "from sklearn.preprocessing import LabelEncoder\n",
    "from sklearn.preprocessing import OneHotEncoder\n",
    "from sklearn.model_selection import train_test_split\n",
    "from sklearn.linear_model import LogisticRegression\n",
    "from sklearn.metrics import accuracy_score"
   ]
  },
  {
   "cell_type": "code",
   "execution_count": 75,
   "metadata": {},
   "outputs": [],
   "source": [
    "X_train, X_test, y_train, y_test = train_test_split(X, y, test_size= 0.33, random_state=42)"
   ]
  },
  {
   "cell_type": "code",
   "execution_count": 77,
   "metadata": {},
   "outputs": [
    {
     "name": "stdout",
     "output_type": "stream",
     "text": [
      "[[\"'60-69'\" \"'ge40'\" \"'30-34'\" ... \"'left'\" \"'left_low'\" \"'no'\"]\n",
      " [\"'60-69'\" \"'ge40'\" \"'15-19'\" ... \"'left'\" \"'left_up'\" \"'yes'\"]\n",
      " [\"'40-49'\" \"'premeno'\" \"'30-34'\" ... \"'left'\" \"'left_up'\" \"'no'\"]\n",
      " ...\n",
      " [\"'30-39'\" \"'premeno'\" \"'30-34'\" ... \"'left'\" \"'left_up'\" \"'no'\"]\n",
      " [\"'40-49'\" \"'premeno'\" \"'20-24'\" ... \"'right'\" \"'right_up'\" \"'no'\"]\n",
      " [\"'50-59'\" \"'ge40'\" \"'30-34'\" ... \"'right'\" \"'right_up'\" \"'no'\"]]\n"
     ]
    },
    {
     "name": "stderr",
     "output_type": "stream",
     "text": [
      "e:\\anaconda3\\envs\\dami\\lib\\site-packages\\sklearn\\preprocessing\\_encoders.py:975: FutureWarning: `sparse` was renamed to `sparse_output` in version 1.2 and will be removed in 1.4. `sparse_output` is ignored unless you leave `sparse` to its default value.\n",
      "  warnings.warn(\n"
     ]
    }
   ],
   "source": [
    "ohe = OneHotEncoder(handle_unknown='ignore', sparse=False)\n",
    "print(X_train)\n",
    "ohe.fit(X_train)\n",
    "X_train = ohe.transform(X_train)\n",
    "X_test = ohe.transform(X_test)"
   ]
  },
  {
   "cell_type": "code",
   "execution_count": 87,
   "metadata": {},
   "outputs": [
    {
     "name": "stdout",
     "output_type": "stream",
     "text": [
      "[0 1 0 0 1 0 0 0 0 0 0 0 1 1 0 1 0 1 0 0 0 1 0 0 0 0 0 0 0 0 0 0 0 0 0 0 0\n",
      " 1 0 1 0 1 1 0 0 0 0 0 1 0 1 0 0 0 1 0 0 0 0 1 0 0 0 1 0 1 1 0 1 0 0 0 1 0\n",
      " 0 1 1 1 0 1 0 1 0 1 1 1 1 0 0 0 0 0]\n"
     ]
    },
    {
     "data": {
      "text/plain": [
       "array([[0., 0., 0., ..., 0., 1., 0.],\n",
       "       [0., 0., 0., ..., 0., 0., 1.],\n",
       "       [0., 1., 0., ..., 0., 1., 0.],\n",
       "       ...,\n",
       "       [1., 0., 0., ..., 0., 1., 0.],\n",
       "       [0., 1., 0., ..., 1., 1., 0.],\n",
       "       [0., 0., 1., ..., 1., 1., 0.]])"
      ]
     },
     "execution_count": 87,
     "metadata": {},
     "output_type": "execute_result"
    }
   ],
   "source": [
    "lbe = LabelEncoder()\n",
    "lbe.fit(y_train)\n",
    "y_train = lbe.transform(y_train)\n",
    "y_test = lbe.transform(y_test)\n",
    "print(y_test)\n",
    "X_train"
   ]
  },
  {
   "cell_type": "code",
   "execution_count": 86,
   "metadata": {},
   "outputs": [
    {
     "name": "stdout",
     "output_type": "stream",
     "text": [
      "0.717391304347826\n"
     ]
    }
   ],
   "source": [
    "model = LogisticRegression()\n",
    "model.fit(X_train, y_train)\n",
    "y_pred = model.predict(X_test)\n",
    "accuracy = model.score(X_test, y_test)\n",
    "print(accuracy)"
   ]
  }
 ],
 "metadata": {
  "kernelspec": {
   "display_name": "dami",
   "language": "python",
   "name": "python3"
  },
  "language_info": {
   "codemirror_mode": {
    "name": "ipython",
    "version": 3
   },
   "file_extension": ".py",
   "mimetype": "text/x-python",
   "name": "python",
   "nbconvert_exporter": "python",
   "pygments_lexer": "ipython3",
   "version": "3.9.17"
  }
 },
 "nbformat": 4,
 "nbformat_minor": 2
}
