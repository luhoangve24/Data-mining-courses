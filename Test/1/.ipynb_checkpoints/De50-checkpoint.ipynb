{
 "cells": [
  {
   "cell_type": "markdown",
   "id": "0f411aeb-02e8-4764-afde-86dcce9e1735",
   "metadata": {},
   "source": [
    "Đề 50"
   ]
  },
  {
   "cell_type": "code",
   "execution_count": 1,
   "id": "bced9889-9448-45e8-a388-ecb9f1e9853e",
   "metadata": {},
   "outputs": [],
   "source": [
    "import pandas as pd"
   ]
  },
  {
   "cell_type": "code",
   "execution_count": null,
   "id": "536402df-b04b-45d6-aca3-1832b81ed0a2",
   "metadata": {},
   "outputs": [],
   "source": [
    "df = pd.read_csv(\"\")"
   ]
  },
  {
   "cell_type": "code",
   "execution_count": null,
   "id": "91ee208f-f3f1-47cc-823f-b7c635971a5a",
   "metadata": {},
   "outputs": [],
   "source": []
  }
 ],
 "metadata": {
  "kernelspec": {
   "display_name": "Python 3 (ipykernel)",
   "language": "python",
   "name": "python3"
  },
  "language_info": {
   "codemirror_mode": {
    "name": "ipython",
    "version": 3
   },
   "file_extension": ".py",
   "mimetype": "text/x-python",
   "name": "python",
   "nbconvert_exporter": "python",
   "pygments_lexer": "ipython3",
   "version": "3.9.17"
  }
 },
 "nbformat": 4,
 "nbformat_minor": 5
}
