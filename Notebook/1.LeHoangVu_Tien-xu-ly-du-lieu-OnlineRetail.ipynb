{
 "cells": [
  {
   "cell_type": "markdown",
   "id": "330b4270-9251-449f-8204-24f8baa985a4",
   "metadata": {},
   "source": [
    "# Bài tập Tiền xử lý dữ liệu 2 - Online Retail"
   ]
  },
  {
   "cell_type": "markdown",
   "id": "8df7430f-ff35-455a-8d66-520c77acd4e6",
   "metadata": {},
   "source": [
    "#### Họ và tên: Lê Hoàng Vũ\n",
    "#### Mã sinh viên: 23A4040156"
   ]
  },
  {
   "cell_type": "markdown",
   "id": "16b322bd-2fbb-4c59-9553-f135dd49adeb",
   "metadata": {},
   "source": [
    "****"
   ]
  },
  {
   "cell_type": "markdown",
   "id": "84258daa-4d6d-454d-a64c-b1513eeb6ef6",
   "metadata": {},
   "source": [
    "**Khai báo thư viện**"
   ]
  },
  {
   "cell_type": "code",
   "execution_count": 1,
   "id": "30caec40-37ba-494e-a8e4-331d19312c0a",
   "metadata": {},
   "outputs": [],
   "source": [
    "import pandas as pd"
   ]
  },
  {
   "cell_type": "markdown",
   "id": "96a85096-9470-467f-b3c6-b845065bd8ff",
   "metadata": {},
   "source": [
    "**Đọc dữ liệu**"
   ]
  },
  {
   "cell_type": "markdown",
   "id": "6f6dc0b3-e809-453b-9add-66d30f266c19",
   "metadata": {},
   "source": [
    "> Có một số ký tự không thuộc bảng ASCII tiêu chuẩn. Truyền tham số encoding với giá trị unicode_escape\n",
    "> Tham khảo một số nguồn tại\n",
    "> https://docs.python.org/3/library/codecs.html#standard-encodings\n",
    "> https://stackoverflow.com/questions/22216076/unicodedecodeerror-utf8-codec-cant-decode-byte-0xa5-in-position-0-invalid-s"
   ]
  },
  {
   "cell_type": "code",
   "execution_count": 124,
   "id": "3aed0d11-9b74-46d1-8dda-a932785839d9",
   "metadata": {},
   "outputs": [
    {
     "name": "stdout",
     "output_type": "stream",
     "text": [
      "Thông tin tổng quan bộ dữ liệu \n",
      "\n",
      "-------------------------------------\n",
      "<class 'pandas.core.frame.DataFrame'>\n",
      "RangeIndex: 541909 entries, 0 to 541908\n",
      "Data columns (total 8 columns):\n",
      " #   Column       Non-Null Count   Dtype  \n",
      "---  ------       --------------   -----  \n",
      " 0   InvoiceNo    541909 non-null  object \n",
      " 1   StockCode    541909 non-null  object \n",
      " 2   Description  540455 non-null  object \n",
      " 3   Quantity     541909 non-null  int64  \n",
      " 4   InvoiceDate  541909 non-null  object \n",
      " 5   UnitPrice    541909 non-null  float64\n",
      " 6   CustomerID   406829 non-null  float64\n",
      " 7   Country      541909 non-null  object \n",
      "dtypes: float64(2), int64(1), object(5)\n",
      "memory usage: 33.1+ MB\n",
      "None\n"
     ]
    }
   ],
   "source": [
    "df = pd.read_csv(\"OnlineRetail.csv\", encoding = \"unicode_escape\")\n",
    "print(\"Thông tin tổng quan bộ dữ liệu \\n\")\n",
    "print(\"-------------------------------------\")\n",
    "print(df.info())"
   ]
  },
  {
   "cell_type": "markdown",
   "id": "1f58d55f-21c3-485e-a0ca-8908c204f65b",
   "metadata": {},
   "source": [
    "* Có tổng cộng 541909 bản ghi dữ liệu\n",
    "* Thuộc tính Description, CustomerID có một vài giá trị Null. Nhưng Description là thuộc tính Optional, không quá quan trọng. Chủ yếu là CustomerID\n",
    "* Thuộc tính CustomerID phải là dạng số nguyên\n",
    "* InvoiceDate phải là kiểu thời gian\n",
    "* Giả thuyết: InvoiceNo, StockCode cũng nên là dạng số nguyên, có một vài dữ liệu không thể ép sang số nguyên do có ký tự chữ? (Chưa làm ngay)\n",
    "* UnitPrice, CustomerID, Quantity sẽ có một số giá trị ngoại lai"
   ]
  },
  {
   "cell_type": "markdown",
   "id": "c0d5b9d0-a457-4729-80e0-312a1012bd38",
   "metadata": {},
   "source": [
    "**Đọc 10 hàng dữ liệu đầu tiên**"
   ]
  },
  {
   "cell_type": "code",
   "execution_count": 125,
   "id": "90264941-066f-489b-845f-657346835b4a",
   "metadata": {},
   "outputs": [
    {
     "data": {
      "text/html": [
       "<div>\n",
       "<style scoped>\n",
       "    .dataframe tbody tr th:only-of-type {\n",
       "        vertical-align: middle;\n",
       "    }\n",
       "\n",
       "    .dataframe tbody tr th {\n",
       "        vertical-align: top;\n",
       "    }\n",
       "\n",
       "    .dataframe thead th {\n",
       "        text-align: right;\n",
       "    }\n",
       "</style>\n",
       "<table border=\"1\" class=\"dataframe\">\n",
       "  <thead>\n",
       "    <tr style=\"text-align: right;\">\n",
       "      <th></th>\n",
       "      <th>InvoiceNo</th>\n",
       "      <th>StockCode</th>\n",
       "      <th>Description</th>\n",
       "      <th>Quantity</th>\n",
       "      <th>InvoiceDate</th>\n",
       "      <th>UnitPrice</th>\n",
       "      <th>CustomerID</th>\n",
       "      <th>Country</th>\n",
       "    </tr>\n",
       "  </thead>\n",
       "  <tbody>\n",
       "    <tr>\n",
       "      <th>0</th>\n",
       "      <td>536365</td>\n",
       "      <td>85123A</td>\n",
       "      <td>WHITE HANGING HEART T-LIGHT HOLDER</td>\n",
       "      <td>6</td>\n",
       "      <td>12/01/2010 8:26</td>\n",
       "      <td>2.55</td>\n",
       "      <td>17850.0</td>\n",
       "      <td>United Kingdom</td>\n",
       "    </tr>\n",
       "    <tr>\n",
       "      <th>1</th>\n",
       "      <td>536365</td>\n",
       "      <td>71053</td>\n",
       "      <td>WHITE METAL LANTERN</td>\n",
       "      <td>6</td>\n",
       "      <td>12/01/2010 8:26</td>\n",
       "      <td>3.39</td>\n",
       "      <td>17850.0</td>\n",
       "      <td>United Kingdom</td>\n",
       "    </tr>\n",
       "    <tr>\n",
       "      <th>2</th>\n",
       "      <td>536365</td>\n",
       "      <td>84406B</td>\n",
       "      <td>CREAM CUPID HEARTS COAT HANGER</td>\n",
       "      <td>8</td>\n",
       "      <td>12/01/2010 8:26</td>\n",
       "      <td>2.75</td>\n",
       "      <td>17850.0</td>\n",
       "      <td>United Kingdom</td>\n",
       "    </tr>\n",
       "    <tr>\n",
       "      <th>3</th>\n",
       "      <td>536365</td>\n",
       "      <td>84029G</td>\n",
       "      <td>KNITTED UNION FLAG HOT WATER BOTTLE</td>\n",
       "      <td>6</td>\n",
       "      <td>12/01/2010 8:26</td>\n",
       "      <td>3.39</td>\n",
       "      <td>17850.0</td>\n",
       "      <td>United Kingdom</td>\n",
       "    </tr>\n",
       "    <tr>\n",
       "      <th>4</th>\n",
       "      <td>536365</td>\n",
       "      <td>84029E</td>\n",
       "      <td>RED WOOLLY HOTTIE WHITE HEART.</td>\n",
       "      <td>6</td>\n",
       "      <td>12/01/2010 8:26</td>\n",
       "      <td>3.39</td>\n",
       "      <td>17850.0</td>\n",
       "      <td>United Kingdom</td>\n",
       "    </tr>\n",
       "    <tr>\n",
       "      <th>5</th>\n",
       "      <td>536365</td>\n",
       "      <td>22752</td>\n",
       "      <td>SET 7 BABUSHKA NESTING BOXES</td>\n",
       "      <td>2</td>\n",
       "      <td>12/01/2010 8:26</td>\n",
       "      <td>7.65</td>\n",
       "      <td>17850.0</td>\n",
       "      <td>United Kingdom</td>\n",
       "    </tr>\n",
       "    <tr>\n",
       "      <th>6</th>\n",
       "      <td>536365</td>\n",
       "      <td>21730</td>\n",
       "      <td>GLASS STAR FROSTED T-LIGHT HOLDER</td>\n",
       "      <td>6</td>\n",
       "      <td>12/01/2010 8:26</td>\n",
       "      <td>4.25</td>\n",
       "      <td>17850.0</td>\n",
       "      <td>United Kingdom</td>\n",
       "    </tr>\n",
       "    <tr>\n",
       "      <th>7</th>\n",
       "      <td>536366</td>\n",
       "      <td>22633</td>\n",
       "      <td>HAND WARMER UNION JACK</td>\n",
       "      <td>6</td>\n",
       "      <td>12/01/2010 8:28</td>\n",
       "      <td>1.85</td>\n",
       "      <td>17850.0</td>\n",
       "      <td>United Kingdom</td>\n",
       "    </tr>\n",
       "    <tr>\n",
       "      <th>8</th>\n",
       "      <td>536366</td>\n",
       "      <td>22632</td>\n",
       "      <td>HAND WARMER RED POLKA DOT</td>\n",
       "      <td>6</td>\n",
       "      <td>12/01/2010 8:28</td>\n",
       "      <td>1.85</td>\n",
       "      <td>17850.0</td>\n",
       "      <td>United Kingdom</td>\n",
       "    </tr>\n",
       "    <tr>\n",
       "      <th>9</th>\n",
       "      <td>536367</td>\n",
       "      <td>84879</td>\n",
       "      <td>ASSORTED COLOUR BIRD ORNAMENT</td>\n",
       "      <td>32</td>\n",
       "      <td>12/01/2010 8:34</td>\n",
       "      <td>1.69</td>\n",
       "      <td>13047.0</td>\n",
       "      <td>United Kingdom</td>\n",
       "    </tr>\n",
       "  </tbody>\n",
       "</table>\n",
       "</div>"
      ],
      "text/plain": [
       "  InvoiceNo StockCode                          Description  Quantity  \\\n",
       "0    536365    85123A   WHITE HANGING HEART T-LIGHT HOLDER         6   \n",
       "1    536365     71053                  WHITE METAL LANTERN         6   \n",
       "2    536365    84406B       CREAM CUPID HEARTS COAT HANGER         8   \n",
       "3    536365    84029G  KNITTED UNION FLAG HOT WATER BOTTLE         6   \n",
       "4    536365    84029E       RED WOOLLY HOTTIE WHITE HEART.         6   \n",
       "5    536365     22752         SET 7 BABUSHKA NESTING BOXES         2   \n",
       "6    536365     21730    GLASS STAR FROSTED T-LIGHT HOLDER         6   \n",
       "7    536366     22633               HAND WARMER UNION JACK         6   \n",
       "8    536366     22632            HAND WARMER RED POLKA DOT         6   \n",
       "9    536367     84879        ASSORTED COLOUR BIRD ORNAMENT        32   \n",
       "\n",
       "       InvoiceDate  UnitPrice  CustomerID         Country  \n",
       "0  12/01/2010 8:26       2.55     17850.0  United Kingdom  \n",
       "1  12/01/2010 8:26       3.39     17850.0  United Kingdom  \n",
       "2  12/01/2010 8:26       2.75     17850.0  United Kingdom  \n",
       "3  12/01/2010 8:26       3.39     17850.0  United Kingdom  \n",
       "4  12/01/2010 8:26       3.39     17850.0  United Kingdom  \n",
       "5  12/01/2010 8:26       7.65     17850.0  United Kingdom  \n",
       "6  12/01/2010 8:26       4.25     17850.0  United Kingdom  \n",
       "7  12/01/2010 8:28       1.85     17850.0  United Kingdom  \n",
       "8  12/01/2010 8:28       1.85     17850.0  United Kingdom  \n",
       "9  12/01/2010 8:34       1.69     13047.0  United Kingdom  "
      ]
     },
     "execution_count": 125,
     "metadata": {},
     "output_type": "execute_result"
    }
   ],
   "source": [
    "df.head(10)"
   ]
  },
  {
   "cell_type": "markdown",
   "id": "f981eb5e-7419-46cd-9a3f-57a2faae8323",
   "metadata": {},
   "source": [
    "**Đọc 10 hàng dữ liệu cuối cùng**"
   ]
  },
  {
   "cell_type": "code",
   "execution_count": 126,
   "id": "da5d8c18-92ae-47cc-bbbc-2947980a2a18",
   "metadata": {},
   "outputs": [
    {
     "data": {
      "text/html": [
       "<div>\n",
       "<style scoped>\n",
       "    .dataframe tbody tr th:only-of-type {\n",
       "        vertical-align: middle;\n",
       "    }\n",
       "\n",
       "    .dataframe tbody tr th {\n",
       "        vertical-align: top;\n",
       "    }\n",
       "\n",
       "    .dataframe thead th {\n",
       "        text-align: right;\n",
       "    }\n",
       "</style>\n",
       "<table border=\"1\" class=\"dataframe\">\n",
       "  <thead>\n",
       "    <tr style=\"text-align: right;\">\n",
       "      <th></th>\n",
       "      <th>InvoiceNo</th>\n",
       "      <th>StockCode</th>\n",
       "      <th>Description</th>\n",
       "      <th>Quantity</th>\n",
       "      <th>InvoiceDate</th>\n",
       "      <th>UnitPrice</th>\n",
       "      <th>CustomerID</th>\n",
       "      <th>Country</th>\n",
       "    </tr>\n",
       "  </thead>\n",
       "  <tbody>\n",
       "    <tr>\n",
       "      <th>541899</th>\n",
       "      <td>581587</td>\n",
       "      <td>22726</td>\n",
       "      <td>ALARM CLOCK BAKELIKE GREEN</td>\n",
       "      <td>4</td>\n",
       "      <td>12/09/2011 12:50</td>\n",
       "      <td>3.75</td>\n",
       "      <td>12680.0</td>\n",
       "      <td>France</td>\n",
       "    </tr>\n",
       "    <tr>\n",
       "      <th>541900</th>\n",
       "      <td>581587</td>\n",
       "      <td>22730</td>\n",
       "      <td>ALARM CLOCK BAKELIKE IVORY</td>\n",
       "      <td>4</td>\n",
       "      <td>12/09/2011 12:50</td>\n",
       "      <td>3.75</td>\n",
       "      <td>12680.0</td>\n",
       "      <td>France</td>\n",
       "    </tr>\n",
       "    <tr>\n",
       "      <th>541901</th>\n",
       "      <td>581587</td>\n",
       "      <td>22367</td>\n",
       "      <td>CHILDRENS APRON SPACEBOY DESIGN</td>\n",
       "      <td>8</td>\n",
       "      <td>12/09/2011 12:50</td>\n",
       "      <td>1.95</td>\n",
       "      <td>12680.0</td>\n",
       "      <td>France</td>\n",
       "    </tr>\n",
       "    <tr>\n",
       "      <th>541902</th>\n",
       "      <td>581587</td>\n",
       "      <td>22629</td>\n",
       "      <td>SPACEBOY LUNCH BOX</td>\n",
       "      <td>12</td>\n",
       "      <td>12/09/2011 12:50</td>\n",
       "      <td>1.95</td>\n",
       "      <td>12680.0</td>\n",
       "      <td>France</td>\n",
       "    </tr>\n",
       "    <tr>\n",
       "      <th>541903</th>\n",
       "      <td>581587</td>\n",
       "      <td>23256</td>\n",
       "      <td>CHILDRENS CUTLERY SPACEBOY</td>\n",
       "      <td>4</td>\n",
       "      <td>12/09/2011 12:50</td>\n",
       "      <td>4.15</td>\n",
       "      <td>12680.0</td>\n",
       "      <td>France</td>\n",
       "    </tr>\n",
       "    <tr>\n",
       "      <th>541904</th>\n",
       "      <td>581587</td>\n",
       "      <td>22613</td>\n",
       "      <td>PACK OF 20 SPACEBOY NAPKINS</td>\n",
       "      <td>12</td>\n",
       "      <td>12/09/2011 12:50</td>\n",
       "      <td>0.85</td>\n",
       "      <td>12680.0</td>\n",
       "      <td>France</td>\n",
       "    </tr>\n",
       "    <tr>\n",
       "      <th>541905</th>\n",
       "      <td>581587</td>\n",
       "      <td>22899</td>\n",
       "      <td>CHILDREN'S APRON DOLLY GIRL</td>\n",
       "      <td>6</td>\n",
       "      <td>12/09/2011 12:50</td>\n",
       "      <td>2.10</td>\n",
       "      <td>12680.0</td>\n",
       "      <td>France</td>\n",
       "    </tr>\n",
       "    <tr>\n",
       "      <th>541906</th>\n",
       "      <td>581587</td>\n",
       "      <td>23254</td>\n",
       "      <td>CHILDRENS CUTLERY DOLLY GIRL</td>\n",
       "      <td>4</td>\n",
       "      <td>12/09/2011 12:50</td>\n",
       "      <td>4.15</td>\n",
       "      <td>12680.0</td>\n",
       "      <td>France</td>\n",
       "    </tr>\n",
       "    <tr>\n",
       "      <th>541907</th>\n",
       "      <td>581587</td>\n",
       "      <td>23255</td>\n",
       "      <td>CHILDRENS CUTLERY CIRCUS PARADE</td>\n",
       "      <td>4</td>\n",
       "      <td>12/09/2011 12:50</td>\n",
       "      <td>4.15</td>\n",
       "      <td>12680.0</td>\n",
       "      <td>France</td>\n",
       "    </tr>\n",
       "    <tr>\n",
       "      <th>541908</th>\n",
       "      <td>581587</td>\n",
       "      <td>22138</td>\n",
       "      <td>BAKING SET 9 PIECE RETROSPOT</td>\n",
       "      <td>3</td>\n",
       "      <td>12/09/2011 12:50</td>\n",
       "      <td>4.95</td>\n",
       "      <td>12680.0</td>\n",
       "      <td>France</td>\n",
       "    </tr>\n",
       "  </tbody>\n",
       "</table>\n",
       "</div>"
      ],
      "text/plain": [
       "       InvoiceNo StockCode                      Description  Quantity  \\\n",
       "541899    581587     22726       ALARM CLOCK BAKELIKE GREEN         4   \n",
       "541900    581587     22730       ALARM CLOCK BAKELIKE IVORY         4   \n",
       "541901    581587     22367  CHILDRENS APRON SPACEBOY DESIGN         8   \n",
       "541902    581587     22629              SPACEBOY LUNCH BOX         12   \n",
       "541903    581587     23256      CHILDRENS CUTLERY SPACEBOY          4   \n",
       "541904    581587     22613      PACK OF 20 SPACEBOY NAPKINS        12   \n",
       "541905    581587     22899     CHILDREN'S APRON DOLLY GIRL          6   \n",
       "541906    581587     23254    CHILDRENS CUTLERY DOLLY GIRL          4   \n",
       "541907    581587     23255  CHILDRENS CUTLERY CIRCUS PARADE         4   \n",
       "541908    581587     22138    BAKING SET 9 PIECE RETROSPOT          3   \n",
       "\n",
       "             InvoiceDate  UnitPrice  CustomerID Country  \n",
       "541899  12/09/2011 12:50       3.75     12680.0  France  \n",
       "541900  12/09/2011 12:50       3.75     12680.0  France  \n",
       "541901  12/09/2011 12:50       1.95     12680.0  France  \n",
       "541902  12/09/2011 12:50       1.95     12680.0  France  \n",
       "541903  12/09/2011 12:50       4.15     12680.0  France  \n",
       "541904  12/09/2011 12:50       0.85     12680.0  France  \n",
       "541905  12/09/2011 12:50       2.10     12680.0  France  \n",
       "541906  12/09/2011 12:50       4.15     12680.0  France  \n",
       "541907  12/09/2011 12:50       4.15     12680.0  France  \n",
       "541908  12/09/2011 12:50       4.95     12680.0  France  "
      ]
     },
     "execution_count": 126,
     "metadata": {},
     "output_type": "execute_result"
    }
   ],
   "source": [
    "df.tail(10)"
   ]
  },
  {
   "cell_type": "markdown",
   "id": "cc5838a4-e1a8-4f9e-bdd1-e3a89c6d120a",
   "metadata": {},
   "source": [
    "**Điền thay thế giá trị khuyết thiếu**"
   ]
  },
  {
   "cell_type": "markdown",
   "id": "b7859d72-0349-4ea3-ba20-a72c689a0e31",
   "metadata": {},
   "source": [
    "> Vì tệp dữ liệu khá lớn, nên chúng ta sẽ xóa một vài bản ghi thiếu CustomerID, ít bị ảnh hưởng tới các bài toán sau này. Chúng ta có thể thay thế các Description đang còn thiếu bằng giá trị như \"Nothing\" để có thể loại trừ các bản ghi chỉ thiếu CustomerID. Vì Description sau này có thể dựa vào Stock Code để trích xuất ra. Còn CustomerID thiếu thì khó có thể lấy lại được (hoặc tùy bài toán muốn xử lý)"
   ]
  },
  {
   "cell_type": "code",
   "execution_count": 127,
   "id": "437dd183-8a0c-4188-9984-090fa739381f",
   "metadata": {},
   "outputs": [
    {
     "name": "stdout",
     "output_type": "stream",
     "text": [
      "<class 'pandas.core.frame.DataFrame'>\n",
      "RangeIndex: 541909 entries, 0 to 541908\n",
      "Data columns (total 8 columns):\n",
      " #   Column       Non-Null Count   Dtype  \n",
      "---  ------       --------------   -----  \n",
      " 0   InvoiceNo    541909 non-null  object \n",
      " 1   StockCode    541909 non-null  object \n",
      " 2   Description  541909 non-null  object \n",
      " 3   Quantity     541909 non-null  int64  \n",
      " 4   InvoiceDate  541909 non-null  object \n",
      " 5   UnitPrice    541909 non-null  float64\n",
      " 6   CustomerID   406829 non-null  float64\n",
      " 7   Country      541909 non-null  object \n",
      "dtypes: float64(2), int64(1), object(5)\n",
      "memory usage: 33.1+ MB\n",
      "None\n"
     ]
    }
   ],
   "source": [
    "df['Description'] = df['Description'].fillna('Nothing')\n",
    "print(df.info())"
   ]
  },
  {
   "cell_type": "markdown",
   "id": "ba83cc78-d2a2-4485-9686-3aa05c0cfc45",
   "metadata": {},
   "source": [
    "**Xóa các dữ liệu khuyết thiếu**"
   ]
  },
  {
   "cell_type": "markdown",
   "id": "3ffef8a2-2457-4fa6-980d-cbc9ffa075ac",
   "metadata": {},
   "source": [
    "> Xóa các bản ghi thiếu CustomerID và được tệp dữ liệu mới, đầy đủ các thuộc tính"
   ]
  },
  {
   "cell_type": "code",
   "execution_count": 128,
   "id": "d6d887bd-7708-48a6-929f-8f739870c017",
   "metadata": {},
   "outputs": [
    {
     "name": "stdout",
     "output_type": "stream",
     "text": [
      "<class 'pandas.core.frame.DataFrame'>\n",
      "Int64Index: 406829 entries, 0 to 541908\n",
      "Data columns (total 8 columns):\n",
      " #   Column       Non-Null Count   Dtype  \n",
      "---  ------       --------------   -----  \n",
      " 0   InvoiceNo    406829 non-null  object \n",
      " 1   StockCode    406829 non-null  object \n",
      " 2   Description  406829 non-null  object \n",
      " 3   Quantity     406829 non-null  int64  \n",
      " 4   InvoiceDate  406829 non-null  object \n",
      " 5   UnitPrice    406829 non-null  float64\n",
      " 6   CustomerID   406829 non-null  float64\n",
      " 7   Country      406829 non-null  object \n",
      "dtypes: float64(2), int64(1), object(5)\n",
      "memory usage: 27.9+ MB\n"
     ]
    }
   ],
   "source": [
    "drop_df = df.loc[:]\n",
    "# Cần phải thêm bước sử dụng loc[] này, nếu không sẽ gây ra lỗi SettingWithCopyWarning\n",
    "# Tham khảo thêm tại https://www.dataquest.io/blog/settingwithcopywarning/\n",
    "drop_df.dropna(inplace=True)\n",
    "drop_df.info()"
   ]
  },
  {
   "cell_type": "markdown",
   "id": "e359dffd-8622-4f0e-b38d-4479778973ed",
   "metadata": {},
   "source": [
    "**Chuyển đổi dạng dữ liệu**"
   ]
  },
  {
   "cell_type": "code",
   "execution_count": 129,
   "id": "de019c17-4916-41f3-9327-27e2934c712a",
   "metadata": {},
   "outputs": [
    {
     "name": "stdout",
     "output_type": "stream",
     "text": [
      "<class 'pandas.core.frame.DataFrame'>\n",
      "Int64Index: 406829 entries, 0 to 541908\n",
      "Data columns (total 8 columns):\n",
      " #   Column       Non-Null Count   Dtype         \n",
      "---  ------       --------------   -----         \n",
      " 0   InvoiceNo    406829 non-null  object        \n",
      " 1   StockCode    406829 non-null  object        \n",
      " 2   Description  406829 non-null  object        \n",
      " 3   Quantity     406829 non-null  int64         \n",
      " 4   InvoiceDate  406829 non-null  datetime64[ns]\n",
      " 5   UnitPrice    406829 non-null  float64       \n",
      " 6   CustomerID   406829 non-null  int64         \n",
      " 7   Country      406829 non-null  object        \n",
      "dtypes: datetime64[ns](1), float64(1), int64(2), object(4)\n",
      "memory usage: 27.9+ MB\n",
      "None\n"
     ]
    }
   ],
   "source": [
    "drop_df['CustomerID'] = drop_df['CustomerID'].astype('int64')\n",
    "drop_df['InvoiceDate'] = pd.to_datetime(df['InvoiceDate'])\n",
    "\n",
    "print(drop_df.info())"
   ]
  },
  {
   "cell_type": "markdown",
   "id": "ba3c6447-d320-464f-87cf-a8a6c926b424",
   "metadata": {},
   "source": [
    "**Kiểm tra các giá trị ngoại lai đối với kiểu dữ liệu số**"
   ]
  },
  {
   "cell_type": "markdown",
   "id": "4deb920c-fa90-443f-83ae-d8ce8f8ebec4",
   "metadata": {},
   "source": [
    "> Trong thống kê, nếu dữ liệu tương đồng nhau, sử dụng giá trị trung bình cho bạn kết quả phân tích chính xác nhất, nhưng nếu dữ liệu bị phân tán, có một vài giá trị mà chúng ta gọi là giá trị nhiễu, giá trị ngoại biên thì sử dụng số trung vị sẽ cho bạn kết quả chính xác nhất bởi số trung vị không phụ thuộc vào giá trị nhiễu.\n",
    "> https://www.banhoituidap.com/p/3100/y-nghia-so-trung-vi-la-gi/"
   ]
  },
  {
   "cell_type": "code",
   "execution_count": 139,
   "id": "1d25b024-fdb3-4b96-97f9-77ce0fabc820",
   "metadata": {},
   "outputs": [
    {
     "name": "stdout",
     "output_type": "stream",
     "text": [
      "Thông tin về thuộc tính Quantity\n",
      "-----------------------------\n",
      "Thông tin tần suất các giá trị\n",
      "  1        73314\n",
      " 12       60033\n",
      " 2        58003\n",
      " 6        37688\n",
      " 4        32183\n",
      "          ...  \n",
      " 828          1\n",
      " 560          1\n",
      "-408          1\n",
      " 512          1\n",
      "-80995        1\n",
      "Name: Quantity, Length: 436, dtype: int64 \n",
      "\n",
      "Giá trị trung bình: 12.06130339774205 \n",
      "Giá trị trung vị: 5.0 \n",
      "Giá trị lớn nhất: 80995 \n",
      "Giá trị nhỏ nhất: -80995\n",
      "\n",
      "\n",
      "\n",
      "Thông tin về thuộc tính UnitPrice\n",
      "-----------------------------\n",
      "Thông tin tần suất các giá trị\n",
      " 1.25      46555\n",
      "1.65      37503\n",
      "2.95      27211\n",
      "0.85      26396\n",
      "0.42      22032\n",
      "          ...  \n",
      "3.56          1\n",
      "4.37          1\n",
      "6.89          1\n",
      "0.98          1\n",
      "224.69        1\n",
      "Name: UnitPrice, Length: 620, dtype: int64 \n",
      "\n",
      "Giá trị trung bình: 3.4604710185298773 \n",
      "Giá trị trung vị: 1.95 \n",
      "Giá trị lớn nhất: 38970.0 \n",
      "Giá trị nhỏ nhất: 0.0\n",
      "\n",
      "\n",
      "\n",
      "Thông tin về thuộc tính CustomerID\n",
      "-----------------------------\n",
      "Thông tin tần suất các giá trị\n",
      " 17841    7983\n",
      "14911    5903\n",
      "14096    5128\n",
      "12748    4642\n",
      "14606    2782\n",
      "         ... \n",
      "15070       1\n",
      "15753       1\n",
      "17065       1\n",
      "16881       1\n",
      "16995       1\n",
      "Name: CustomerID, Length: 4372, dtype: int64 \n",
      "\n",
      "Giá trị trung bình: 15287.690570239585 \n",
      "Giá trị trung vị: 15152.0 \n",
      "Giá trị lớn nhất: 18287 \n",
      "Giá trị nhỏ nhất: 12346\n",
      "\n",
      "\n",
      "\n"
     ]
    }
   ],
   "source": [
    "def check_attribute(dataframe, attribute):\n",
    "    print(\n",
    "        \"Thông tin tần suất các giá trị\\n\",\n",
    "        dataframe[attribute].value_counts(),\n",
    "        \"\\n\\nGiá trị trung bình:\",\n",
    "        dataframe[attribute].mean(),\n",
    "        \"\\nGiá trị trung vị:\",\n",
    "        dataframe[attribute].median(),\n",
    "        \"\\nGiá trị lớn nhất:\",\n",
    "        dataframe[attribute].max(),\n",
    "        \"\\nGiá trị nhỏ nhất:\",\n",
    "        dataframe[attribute].min()\n",
    "    )\n",
    "    \n",
    "need_to_check = ['Quantity', 'UnitPrice', 'CustomerID']\n",
    "for i in need_to_check:\n",
    "    print('Thông tin về thuộc tính', i)\n",
    "    print('-----------------------------')\n",
    "    check_attribute(drop_df, i)\n",
    "    print(\"\\n\\n\")"
   ]
  },
  {
   "cell_type": "markdown",
   "id": "bacf8b1c-de82-4e8c-bcf6-436211457ce0",
   "metadata": {},
   "source": [
    "Như vậy, ta có thể thấy, ngoài thuộc tính **CustomerID** khá chính xác, thì hai thuộc tính **UnitPrice** và **Quantity** có các giá trị ngoại biên, sai lệch nhiều. Dựa vào giá trị trung bình, giá trị trung vị, giá trị lớn nhất và giá trị nhỏ nhất ta có thể thấy rõ điều đó."
   ]
  },
  {
   "cell_type": "markdown",
   "id": "9f402fe2-e154-4dc3-b4f9-dd4fe7ab11b1",
   "metadata": {},
   "source": [
    "Với **Quantity**, có một tập hợp giá trị đều là số âm. Chúng ta có thể giải quyết bằng cách thay thế nếu đây là tệp dữ liệu nhỏ, hoặc xóa những dữ liệu có giá trị Quantity là số âm đi với tệp dữ liệu lớn (do ít ảnh hưởng). Để kiểm tra xem có bao nhiêu bản ghi dữ liệu có giá trị Quantity âm, chúng ta sẽ sử dụng một vòng lặp."
   ]
  },
  {
   "cell_type": "code",
   "execution_count": 131,
   "id": "5b4383ae-6233-4ea0-8dfd-72ebb8867d82",
   "metadata": {},
   "outputs": [
    {
     "name": "stdout",
     "output_type": "stream",
     "text": [
      "Số giá trị Quantity âm:  8905\n"
     ]
    }
   ],
   "source": [
    "count = 0\n",
    "for x in drop_df.index:\n",
    "    if drop_df.loc[x, 'Quantity'] < 0:\n",
    "        count += 1\n",
    "print(\"Số giá trị Quantity âm: \", count)"
   ]
  },
  {
   "cell_type": "markdown",
   "id": "39bd76c0-9908-40c3-b759-1d98cb8d8427",
   "metadata": {},
   "source": [
    "Như vậy, số giá trị Quantity âm không quá lớn so với tập dữ liệu hiện tại. Ta có thể xóa những bản ghi chứa những giá trị âm này đi. Nhưng nếu dùng phương thức drop() sẽ rất lâu đối với tập dữ liệu lớn, nên chúng ta sẽ làm theo cách lấy những bản ghi đạt điều kiện (>0).\n",
    "[Tham khảo: Theo StackOverflow](https://stackoverflow.com/questions/57392878/how-to-speed-up-pandas-drop-method)"
   ]
  },
  {
   "cell_type": "code",
   "execution_count": 141,
   "id": "35fd1028-d2f6-437d-bf00-fbf85044dd4f",
   "metadata": {},
   "outputs": [],
   "source": [
    "def cleanQuantity(quantity): # Hàm kiểm tra quantity có phải là số dương hay không\n",
    "    valid = True # Trả về đúng nếu là số dương\n",
    "    if quantity < 0:\n",
    "        valid = False\n",
    "    return valid\n",
    "\n",
    "drop_df_1 = drop_df[drop_df['Quantity'].apply(cleanQuantity)] # Phương thức apply trong Pandas áp dụng hàm vào cột hiện tại"
   ]
  },
  {
   "cell_type": "code",
   "execution_count": 142,
   "id": "9d89e12b-cca8-48de-8af1-22a76144698c",
   "metadata": {},
   "outputs": [
    {
     "name": "stdout",
     "output_type": "stream",
     "text": [
      "<class 'pandas.core.frame.DataFrame'>\n",
      "Int64Index: 397924 entries, 0 to 541908\n",
      "Data columns (total 8 columns):\n",
      " #   Column       Non-Null Count   Dtype         \n",
      "---  ------       --------------   -----         \n",
      " 0   InvoiceNo    397924 non-null  object        \n",
      " 1   StockCode    397924 non-null  object        \n",
      " 2   Description  397924 non-null  object        \n",
      " 3   Quantity     397924 non-null  int64         \n",
      " 4   InvoiceDate  397924 non-null  datetime64[ns]\n",
      " 5   UnitPrice    397924 non-null  float64       \n",
      " 6   CustomerID   397924 non-null  int64         \n",
      " 7   Country      397924 non-null  object        \n",
      "dtypes: datetime64[ns](1), float64(1), int64(2), object(4)\n",
      "memory usage: 27.3+ MB\n",
      "Thông tin tần suất các giá trị\n",
      " 1        73314\n",
      "12       60033\n",
      "2        58003\n",
      "6        37688\n",
      "4        32183\n",
      "         ...  \n",
      "4300         1\n",
      "608          1\n",
      "738          1\n",
      "552          1\n",
      "80995        1\n",
      "Name: Quantity, Length: 302, dtype: int64 \n",
      "\n",
      "Giá trị trung bình: 13.021823262733587 \n",
      "Giá trị trung vị: 6.0 \n",
      "Giá trị lớn nhất: 80995 \n",
      "Giá trị nhỏ nhất: 1\n"
     ]
    }
   ],
   "source": [
    "# Kiểm tra lại một lần nữa thông tin về tệp dữ liệu sau khi được sửa đổi\n",
    "drop_df_1.info()\n",
    "check_attribute(drop_df_1, 'Quantity')"
   ]
  },
  {
   "cell_type": "markdown",
   "id": "3026a798-dc2a-47b5-ba8a-642df480af8c",
   "metadata": {},
   "source": [
    "**Xuất tệp dữ liệu đã xử lý ra CSV** "
   ]
  },
  {
   "cell_type": "code",
   "execution_count": 145,
   "id": "6b055719-d80b-44e9-816f-3ee312400edd",
   "metadata": {},
   "outputs": [],
   "source": [
    "drop_df_1.to_csv('fixed_OnlineRetail.csv', sep=',', index=False, encoding='utf-8')"
   ]
  },
  {
   "cell_type": "markdown",
   "id": "19d9027b-5490-413a-b736-7ad64ddf3b0f",
   "metadata": {},
   "source": [
    "**Kết luận và Giả thuyết**"
   ]
  },
  {
   "cell_type": "markdown",
   "id": "862dd8cd-2248-42e7-9c7b-fdbfda14f5f0",
   "metadata": {},
   "source": [
    "**Kết luận**: Với các giá trị lớn của UnitPrice và Quantity, chưa có cơ sở khẳng định rằng, các giá trị đó là chưa đúng. Vì có thể có sản phẩm có đơn giá rất cao và có doanh nghiệp mua một hàng hóa với số lượng rất lớn để bán lại. Ngoài ra, có một số sản phẩm có UnitPrice là 0.0, có thể sản phẩm đó là bán kèm hàng tặng, khuyến mãi.\n"
   ]
  },
  {
   "cell_type": "markdown",
   "id": "94f1f6fa-5378-49ad-8f00-39e5b5e2e58a",
   "metadata": {},
   "source": [
    "**Giả thuyết**: Ngoài ra, còn một giả thuyết nữa là với StockCode và InvoiceNo còn một số giá trị không giống với số chung là do được thực hiện thủ công, có thể là mặt hàng hoặc hóa đơn đặc biệt."
   ]
  }
 ],
 "metadata": {
  "kernelspec": {
   "display_name": "Python 3 (ipykernel)",
   "language": "python",
   "name": "python3"
  },
  "language_info": {
   "codemirror_mode": {
    "name": "ipython",
    "version": 3
   },
   "file_extension": ".py",
   "mimetype": "text/x-python",
   "name": "python",
   "nbconvert_exporter": "python",
   "pygments_lexer": "ipython3",
   "version": "3.9.17"
  }
 },
 "nbformat": 4,
 "nbformat_minor": 5
}
