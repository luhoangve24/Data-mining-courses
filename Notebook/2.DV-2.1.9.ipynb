{
 "cells": [
  {
   "cell_type": "markdown",
   "id": "effcb21a-8ab8-47d9-9d37-16ad19fb2064",
   "metadata": {},
   "source": [
    "### Shopee Analytics"
   ]
  },
  {
   "cell_type": "markdown",
   "id": "4eebb5fe-59d7-4498-87d4-824a17d0030c",
   "metadata": {},
   "source": [
    "****"
   ]
  },
  {
   "cell_type": "markdown",
   "id": "791475ff-0742-4982-8fc7-15812fb15ca8",
   "metadata": {},
   "source": [
    "**Yêu cầu**\n",
    "* Vẽ biểu đồ so sánh số lượng shop gia nhập theo các năm.\n",
    "* Vẽ biểu đồ thể hiện mối quan hệ giữa tỉ lệ phản hồi với số lượt khách hàng đánh giá tốt.\n",
    "* Vẽ biểu đồ thể hiện mối quan hệ giữa thời gian phản hồi (đơn vị giây) với số lượt khách hàng đánh giá xấu.\n",
    "* Vẽ biểu đồ thể hiện xu hướng của số lượng shop gia nhập theo thời gian.\n",
    "* Vẽ biểu đồ thể hiện phân bố của điểm đánh giá trung bình. "
   ]
  },
  {
   "cell_type": "code",
   "execution_count": 1,
   "id": "5c596036-678f-4030-8668-821ecec79ee3",
   "metadata": {},
   "outputs": [],
   "source": [
    "import pandas as pd\n",
    "from scipy import stats\n",
    "import matplotlib.pyplot as plt\n",
    "import matplotlib.ticker as tk\n",
    "import numpy as np"
   ]
  },
  {
   "cell_type": "code",
   "execution_count": 2,
   "id": "c1be67ba-d953-49b0-a3aa-6f68472f6c33",
   "metadata": {},
   "outputs": [],
   "source": [
    "df = pd.read_csv('../Data/shopeep_koreantop_clothing_shop_data.csv')"
   ]
  },
  {
   "cell_type": "code",
   "execution_count": 3,
   "id": "f7c55565-b468-4e73-8b46-0cb3190dfb9d",
   "metadata": {
    "scrolled": true
   },
   "outputs": [
    {
     "name": "stdout",
     "output_type": "stream",
     "text": [
      "<class 'pandas.core.frame.DataFrame'>\n",
      "RangeIndex: 746 entries, 0 to 745\n",
      "Data columns (total 18 columns):\n",
      " #   Column              Non-Null Count  Dtype  \n",
      "---  ------              --------------  -----  \n",
      " 0   pk_shop             746 non-null    int64  \n",
      " 1   date_collected      746 non-null    object \n",
      " 2   shopid              746 non-null    int64  \n",
      " 3   name                746 non-null    object \n",
      " 4   join_month          746 non-null    object \n",
      " 5   join_day            746 non-null    int64  \n",
      " 6   join_year           746 non-null    int64  \n",
      " 7   item_count          746 non-null    int64  \n",
      " 8   follower_count      746 non-null    int64  \n",
      " 9   response_time       746 non-null    object \n",
      " 10  response_rate       746 non-null    int64  \n",
      " 11  shop_location       428 non-null    object \n",
      " 12  rating_bad          746 non-null    int64  \n",
      " 13  rating_good         746 non-null    int64  \n",
      " 14  rating_normal       746 non-null    int64  \n",
      " 15  rating_star         740 non-null    float64\n",
      " 16  is_shopee_verified  746 non-null    int64  \n",
      " 17  is_official_shop    746 non-null    int64  \n",
      "dtypes: float64(1), int64(12), object(5)\n",
      "memory usage: 105.0+ KB\n"
     ]
    },
    {
     "data": {
      "text/html": [
       "<div>\n",
       "<style scoped>\n",
       "    .dataframe tbody tr th:only-of-type {\n",
       "        vertical-align: middle;\n",
       "    }\n",
       "\n",
       "    .dataframe tbody tr th {\n",
       "        vertical-align: top;\n",
       "    }\n",
       "\n",
       "    .dataframe thead th {\n",
       "        text-align: right;\n",
       "    }\n",
       "</style>\n",
       "<table border=\"1\" class=\"dataframe\">\n",
       "  <thead>\n",
       "    <tr style=\"text-align: right;\">\n",
       "      <th></th>\n",
       "      <th>pk_shop</th>\n",
       "      <th>date_collected</th>\n",
       "      <th>shopid</th>\n",
       "      <th>name</th>\n",
       "      <th>join_month</th>\n",
       "      <th>join_day</th>\n",
       "      <th>join_year</th>\n",
       "      <th>item_count</th>\n",
       "      <th>follower_count</th>\n",
       "      <th>response_time</th>\n",
       "      <th>response_rate</th>\n",
       "      <th>shop_location</th>\n",
       "      <th>rating_bad</th>\n",
       "      <th>rating_good</th>\n",
       "      <th>rating_normal</th>\n",
       "      <th>rating_star</th>\n",
       "      <th>is_shopee_verified</th>\n",
       "      <th>is_official_shop</th>\n",
       "    </tr>\n",
       "  </thead>\n",
       "  <tbody>\n",
       "    <tr>\n",
       "      <th>736</th>\n",
       "      <td>20210706325618926</td>\n",
       "      <td>2021-07-06</td>\n",
       "      <td>325618926</td>\n",
       "      <td>Be Young Life</td>\n",
       "      <td>October</td>\n",
       "      <td>21</td>\n",
       "      <td>2020</td>\n",
       "      <td>120</td>\n",
       "      <td>14578</td>\n",
       "      <td>09:40:53</td>\n",
       "      <td>93</td>\n",
       "      <td>NaN</td>\n",
       "      <td>29</td>\n",
       "      <td>2830</td>\n",
       "      <td>93</td>\n",
       "      <td>4.85</td>\n",
       "      <td>1</td>\n",
       "      <td>0</td>\n",
       "    </tr>\n",
       "    <tr>\n",
       "      <th>737</th>\n",
       "      <td>20210706416886409</td>\n",
       "      <td>2021-07-06</td>\n",
       "      <td>416886409</td>\n",
       "      <td>vaapo.ph</td>\n",
       "      <td>April</td>\n",
       "      <td>4</td>\n",
       "      <td>2021</td>\n",
       "      <td>620</td>\n",
       "      <td>228</td>\n",
       "      <td>09:44:25</td>\n",
       "      <td>94</td>\n",
       "      <td>NaN</td>\n",
       "      <td>0</td>\n",
       "      <td>36</td>\n",
       "      <td>1</td>\n",
       "      <td>4.89</td>\n",
       "      <td>1</td>\n",
       "      <td>0</td>\n",
       "    </tr>\n",
       "    <tr>\n",
       "      <th>738</th>\n",
       "      <td>20210706419954100</td>\n",
       "      <td>2021-07-06</td>\n",
       "      <td>419954100</td>\n",
       "      <td>Fall in love with you</td>\n",
       "      <td>April</td>\n",
       "      <td>9</td>\n",
       "      <td>2021</td>\n",
       "      <td>662</td>\n",
       "      <td>12968</td>\n",
       "      <td>09:33:28</td>\n",
       "      <td>59</td>\n",
       "      <td>NaN</td>\n",
       "      <td>21</td>\n",
       "      <td>1092</td>\n",
       "      <td>63</td>\n",
       "      <td>4.75</td>\n",
       "      <td>0</td>\n",
       "      <td>0</td>\n",
       "    </tr>\n",
       "    <tr>\n",
       "      <th>739</th>\n",
       "      <td>2021070664360491</td>\n",
       "      <td>2021-07-06</td>\n",
       "      <td>64360491</td>\n",
       "      <td>Yzkzks.ph</td>\n",
       "      <td>April</td>\n",
       "      <td>9</td>\n",
       "      <td>2018</td>\n",
       "      <td>650</td>\n",
       "      <td>80591</td>\n",
       "      <td>10:41:36</td>\n",
       "      <td>92</td>\n",
       "      <td>Pasay City,Metro Manila</td>\n",
       "      <td>385</td>\n",
       "      <td>55669</td>\n",
       "      <td>1161</td>\n",
       "      <td>4.89</td>\n",
       "      <td>0</td>\n",
       "      <td>0</td>\n",
       "    </tr>\n",
       "    <tr>\n",
       "      <th>740</th>\n",
       "      <td>2021070616590993</td>\n",
       "      <td>2021-07-06</td>\n",
       "      <td>16590993</td>\n",
       "      <td>Adol Janet</td>\n",
       "      <td>February</td>\n",
       "      <td>14</td>\n",
       "      <td>2017</td>\n",
       "      <td>473</td>\n",
       "      <td>513469</td>\n",
       "      <td>12:55:27</td>\n",
       "      <td>78</td>\n",
       "      <td>Binondo,Metro Manila</td>\n",
       "      <td>2506</td>\n",
       "      <td>297528</td>\n",
       "      <td>9597</td>\n",
       "      <td>4.84</td>\n",
       "      <td>0</td>\n",
       "      <td>0</td>\n",
       "    </tr>\n",
       "    <tr>\n",
       "      <th>741</th>\n",
       "      <td>20210706449182992</td>\n",
       "      <td>2021-07-06</td>\n",
       "      <td>449182992</td>\n",
       "      <td>Yacent_thrift_Clo</td>\n",
       "      <td>May</td>\n",
       "      <td>22</td>\n",
       "      <td>2021</td>\n",
       "      <td>16</td>\n",
       "      <td>115</td>\n",
       "      <td>08:45:30</td>\n",
       "      <td>86</td>\n",
       "      <td>Legazpi City,Albay</td>\n",
       "      <td>0</td>\n",
       "      <td>32</td>\n",
       "      <td>0</td>\n",
       "      <td>5.00</td>\n",
       "      <td>0</td>\n",
       "      <td>0</td>\n",
       "    </tr>\n",
       "    <tr>\n",
       "      <th>742</th>\n",
       "      <td>20210706396605392</td>\n",
       "      <td>2021-07-06</td>\n",
       "      <td>396605392</td>\n",
       "      <td>Akistore.ph</td>\n",
       "      <td>March</td>\n",
       "      <td>3</td>\n",
       "      <td>2021</td>\n",
       "      <td>84</td>\n",
       "      <td>84</td>\n",
       "      <td>08:01:23</td>\n",
       "      <td>91</td>\n",
       "      <td>NaN</td>\n",
       "      <td>1</td>\n",
       "      <td>9</td>\n",
       "      <td>0</td>\n",
       "      <td>4.60</td>\n",
       "      <td>0</td>\n",
       "      <td>0</td>\n",
       "    </tr>\n",
       "    <tr>\n",
       "      <th>743</th>\n",
       "      <td>20210706360379308</td>\n",
       "      <td>2021-07-06</td>\n",
       "      <td>360379308</td>\n",
       "      <td>Yzanice Shop</td>\n",
       "      <td>December</td>\n",
       "      <td>20</td>\n",
       "      <td>2020</td>\n",
       "      <td>78</td>\n",
       "      <td>5982</td>\n",
       "      <td>08:46:30</td>\n",
       "      <td>96</td>\n",
       "      <td>NaN</td>\n",
       "      <td>16</td>\n",
       "      <td>463</td>\n",
       "      <td>16</td>\n",
       "      <td>4.75</td>\n",
       "      <td>1</td>\n",
       "      <td>0</td>\n",
       "    </tr>\n",
       "    <tr>\n",
       "      <th>744</th>\n",
       "      <td>2021070629392066</td>\n",
       "      <td>2021-07-06</td>\n",
       "      <td>29392066</td>\n",
       "      <td>Clairecvc Shop</td>\n",
       "      <td>August</td>\n",
       "      <td>2</td>\n",
       "      <td>2017</td>\n",
       "      <td>964</td>\n",
       "      <td>44029</td>\n",
       "      <td>12:19:44</td>\n",
       "      <td>73</td>\n",
       "      <td>Binondo,Metro Manila</td>\n",
       "      <td>1960</td>\n",
       "      <td>103289</td>\n",
       "      <td>3982</td>\n",
       "      <td>4.78</td>\n",
       "      <td>0</td>\n",
       "      <td>0</td>\n",
       "    </tr>\n",
       "    <tr>\n",
       "      <th>745</th>\n",
       "      <td>2021070625811092</td>\n",
       "      <td>2021-07-06</td>\n",
       "      <td>25811092</td>\n",
       "      <td>angelcity.💋</td>\n",
       "      <td>June</td>\n",
       "      <td>17</td>\n",
       "      <td>2017</td>\n",
       "      <td>272</td>\n",
       "      <td>868370</td>\n",
       "      <td>10:02:42</td>\n",
       "      <td>36</td>\n",
       "      <td>Pasay City,Metro Manila</td>\n",
       "      <td>13401</td>\n",
       "      <td>708666</td>\n",
       "      <td>30799</td>\n",
       "      <td>4.77</td>\n",
       "      <td>0</td>\n",
       "      <td>0</td>\n",
       "    </tr>\n",
       "  </tbody>\n",
       "</table>\n",
       "</div>"
      ],
      "text/plain": [
       "               pk_shop date_collected     shopid                   name  \\\n",
       "736  20210706325618926     2021-07-06  325618926          Be Young Life   \n",
       "737  20210706416886409     2021-07-06  416886409               vaapo.ph   \n",
       "738  20210706419954100     2021-07-06  419954100  Fall in love with you   \n",
       "739   2021070664360491     2021-07-06   64360491              Yzkzks.ph   \n",
       "740   2021070616590993     2021-07-06   16590993            Adol Janet    \n",
       "741  20210706449182992     2021-07-06  449182992      Yacent_thrift_Clo   \n",
       "742  20210706396605392     2021-07-06  396605392            Akistore.ph   \n",
       "743  20210706360379308     2021-07-06  360379308           Yzanice Shop   \n",
       "744   2021070629392066     2021-07-06   29392066         Clairecvc Shop   \n",
       "745   2021070625811092     2021-07-06   25811092            angelcity.💋   \n",
       "\n",
       "    join_month  join_day  join_year  item_count  follower_count response_time  \\\n",
       "736    October        21       2020         120           14578      09:40:53   \n",
       "737      April         4       2021         620             228      09:44:25   \n",
       "738      April         9       2021         662           12968      09:33:28   \n",
       "739      April         9       2018         650           80591      10:41:36   \n",
       "740   February        14       2017         473          513469      12:55:27   \n",
       "741        May        22       2021          16             115      08:45:30   \n",
       "742      March         3       2021          84              84      08:01:23   \n",
       "743   December        20       2020          78            5982      08:46:30   \n",
       "744     August         2       2017         964           44029      12:19:44   \n",
       "745       June        17       2017         272          868370      10:02:42   \n",
       "\n",
       "     response_rate            shop_location  rating_bad  rating_good  \\\n",
       "736             93                      NaN          29         2830   \n",
       "737             94                      NaN           0           36   \n",
       "738             59                      NaN          21         1092   \n",
       "739             92  Pasay City,Metro Manila         385        55669   \n",
       "740             78     Binondo,Metro Manila        2506       297528   \n",
       "741             86       Legazpi City,Albay           0           32   \n",
       "742             91                      NaN           1            9   \n",
       "743             96                      NaN          16          463   \n",
       "744             73     Binondo,Metro Manila        1960       103289   \n",
       "745             36  Pasay City,Metro Manila       13401       708666   \n",
       "\n",
       "     rating_normal  rating_star  is_shopee_verified  is_official_shop  \n",
       "736             93         4.85                   1                 0  \n",
       "737              1         4.89                   1                 0  \n",
       "738             63         4.75                   0                 0  \n",
       "739           1161         4.89                   0                 0  \n",
       "740           9597         4.84                   0                 0  \n",
       "741              0         5.00                   0                 0  \n",
       "742              0         4.60                   0                 0  \n",
       "743             16         4.75                   1                 0  \n",
       "744           3982         4.78                   0                 0  \n",
       "745          30799         4.77                   0                 0  "
      ]
     },
     "execution_count": 3,
     "metadata": {},
     "output_type": "execute_result"
    }
   ],
   "source": [
    "df.info()\n",
    "df.tail(10)"
   ]
  },
  {
   "cell_type": "code",
   "execution_count": 4,
   "id": "82dd574d-a9ce-4193-b45a-4f6230ae7add",
   "metadata": {},
   "outputs": [],
   "source": [
    "def linear_reg(p1, p2, p3): # Hàm tính các hệ số Linear Regression\n",
    "    lg = [0,0]\n",
    "    lg[0], lg[1] = np.polyfit(p3[p1], p3[p2], deg=1)\n",
    "    return lg\n",
    "\n",
    "def o_c(str1, str2, str3): # Hàm dọn các giá trị ngoại biên bằng hệ số Z-Scores (outliners cleaner), đối chiếu 2.1.8\n",
    "    df_1 = str3.dropna(subset=[str1,str2])\n",
    "    df_2 = df_1[[str1,str2]]\n",
    "    z = np.abs(stats.zscore(df_2))\n",
    "    return df_2[(z<0.3).all(axis=1)]"
   ]
  },
  {
   "cell_type": "code",
   "execution_count": 5,
   "id": "86ecb15f-4c7d-4551-b427-75dd102c909b",
   "metadata": {},
   "outputs": [
    {
     "data": {
      "text/plain": [
       "Text(0, 0.5, 'Number of Shops')"
      ]
     },
     "execution_count": 5,
     "metadata": {},
     "output_type": "execute_result"
    },
    {
     "data": {
      "image/png": "[encoded data removed]",
      "text/plain": [
       "<Figure size 1600x800 with 6 Axes>"
      ]
     },
     "metadata": {},
     "output_type": "display_data"
    }
   ],
   "source": [
    "fig, axs = plt.subplots(2, 3, figsize=(20,10), dpi=80) # Cài đặt Figure với các Axes\n",
    "\n",
    "# Yêu cầu 1\n",
    "count_shop = df.groupby(['join_year'])[['join_year']].count()\n",
    "axs[0,0].bar(count_shop.index, count_shop.join_year, width=0.5)\n",
    "# Tắt tự hiện biểu đồ khi không sử dụng plt.show\n",
    "axs[0,0].set_title('Number of New Shops Over Years', fontsize=16)\n",
    "axs[0,0].set_xlabel('Year', fontsize=14)\n",
    "axs[0,0].set_ylabel('Number of Shops', fontsize=14)\n"
   ]
  },
  {
   "cell_type": "code",
   "execution_count": 6,
   "id": "40751f17-51bf-4540-9dae-e4e48a602f79",
   "metadata": {},
   "outputs": [
    {
     "data": {
      "text/plain": [
       "[<matplotlib.lines.Line2D at 0x1b90c182f40>]"
      ]
     },
     "execution_count": 6,
     "metadata": {},
     "output_type": "execute_result"
    }
   ],
   "source": [
    "# Yêu cầu 2\n",
    "%matplotlib inline\n",
    "df_sub = o_c('response_rate','rating_good', df)\n",
    "colors = np.random.randint(10, 20, size=df_sub.shape[0])\n",
    "axs[0,1].scatter(df_sub['response_rate'], df_sub['rating_good'], c=colors)\n",
    "axs[0,1].set_title('Response rate with Rating good', fontsize=16)\n",
    "axs[0,1].set_xlabel('Response rate', fontsize=14)\n",
    "axs[0,1].set_ylabel('Rating good', fontsize=14)\n",
    "a1 = linear_reg('response_rate', 'rating_good', df_sub)\n",
    "axs[0,1].plot(df_sub.response_rate, a1[0]*df_sub.response_rate+a1[1], color='r')"
   ]
  },
  {
   "cell_type": "code",
   "execution_count": 7,
   "id": "82dface2-3ea2-41ef-83d3-a7d092e44b44",
   "metadata": {},
   "outputs": [
    {
     "data": {
      "text/plain": [
       "[<matplotlib.lines.Line2D at 0x1b90bc4b130>]"
      ]
     },
     "execution_count": 7,
     "metadata": {},
     "output_type": "execute_result"
    }
   ],
   "source": [
    "# Yêu cầu 3\n",
    "# Cần đổi định dạng thời gian về giây (seconds)\n",
    "%matplotlib inline\n",
    "df_sub = df.loc[:]\n",
    "df_sub['response_time'] = [e.strip() for e in df.response_time]\n",
    "df_sub['response_time'] = pd.to_datetime(df_sub['response_time'], format='%H:%M:%S').dt.time\n",
    "df_sub['response_time'] = [(int(e.strftime('%H'))*int(e.strftime('%M'))*60+int(e.strftime('%S'))) for e in df_sub.response_time]\n",
    "df_sub2 = o_c('response_time','rating_bad',df_sub)\n",
    "\n",
    "colors = np.random.randint(10, 20, size=df_sub2.shape[0])\n",
    "axs[0,2].scatter(df_sub2['response_time'], df_sub2['rating_bad'], c=colors)\n",
    "axs[0,2].set_title('Response time with Rating bad', fontsize=16)\n",
    "axs[0,2].set_xlabel('Response time (seconds)', fontsize=14)\n",
    "axs[0,2].set_ylabel('Rating bad', fontsize=14)\n",
    "a1 = linear_reg('response_time', 'rating_bad', df_sub2)\n",
    "axs[0,2].plot(df_sub2.response_time, a1[0]*df_sub2.response_time+a1[1], color='r')"
   ]
  },
  {
   "cell_type": "markdown",
   "id": "25e023e9-ca07-4494-8f4e-6f4b82d33a3a",
   "metadata": {},
   "source": [
    "[Convert Full name Month to Month and Full Time](https://www.geeksforgeeks.org/python-datetime-strptime-function/)\\\n",
    "[String to DateTime object](https://www.programiz.com/python-programming/datetime/strptime#google_vignette)"
   ]
  },
  {
   "cell_type": "code",
   "execution_count": 8,
   "id": "4fc148cd-f976-4c4f-b27a-ed41cfc9b711",
   "metadata": {
    "scrolled": true
   },
   "outputs": [
    {
     "name": "stderr",
     "output_type": "stream",
     "text": [
      "C:\\Users\\DELL\\AppData\\Local\\Temp\\ipykernel_16392\\426228606.py:24: UserWarning: FixedFormatter should only be used together with FixedLocator\n",
      "  axs[1,0].set_xticklabels(axs[1,0].get_xticklabels(), rotation=45)\n"
     ]
    },
    {
     "data": {
      "text/plain": [
       "[Text(-8.0, 0, ''),\n",
       " Text(0.0, 0, '2015-10'),\n",
       " Text(8.0, 0, '2017-03'),\n",
       " Text(16.0, 0, '2017-11'),\n",
       " Text(24.0, 0, '2018-07'),\n",
       " Text(32.0, 0, '2019-03'),\n",
       " Text(40.0, 0, '2019-11'),\n",
       " Text(48.0, 0, '2020-08'),\n",
       " Text(56.0, 0, '2021-04'),\n",
       " Text(64.0, 0, '')]"
      ]
     },
     "execution_count": 8,
     "metadata": {},
     "output_type": "execute_result"
    }
   ],
   "source": [
    "# Yêu cầu 4\n",
    "from datetime import datetime\n",
    "%matplotlib inline\n",
    "year = df_sub['join_year']\n",
    "month = df_sub['join_month']\n",
    "day = df_sub['join_day']\n",
    "combin = ['{} {} {}'.format(year[i], month[i], day[i]) for i in range(len(df_sub.index))]\n",
    "df['join_time'] = combin\n",
    "\n",
    "df_sub = df.loc[:]\n",
    "df_sub['join_time'] = [datetime.strptime(e, '%Y %B %d') for e in df_sub['join_time']] \n",
    "# Tham khảo: https://www.programiz.com/python-programming/datetime/strptime#google_vignette\n",
    "# https://www.geeksforgeeks.org/python-datetime-strptime-function/\n",
    "# https://stackoverflow.com/questions/25146121/extracting-just-month-and-year-separately-from-pandas-datetime-column\n",
    "\n",
    "df_sub['join_time'] = pd.to_datetime(df_sub.join_time) # Phải ép về kiểu của Pandas để extract ra year, month, day. p/s: khó hiểu thật sự\n",
    "\n",
    "count_join = df_sub.groupby(df_sub.join_time.dt.to_period('M'))[['join_time']].count()\n",
    "axs[1,0].plot(np.asarray([str(e) for e in count_join.index]),count_join.join_time, linewidth=3, marker='*', markersize=10, markerfacecolor='red')\n",
    "axs[1,0].set_title('New Vendors by Months', fontsize=16)\n",
    "axs[1,0].set_xlabel('Months', fontsize=14)\n",
    "axs[1,0].set_ylabel('Number of Vendors', fontsize=14)\n",
    "axs[1,0].xaxis.set_major_locator(tk.MaxNLocator(8)) # Tham khao: https://saturncloud.io/blog/optimizing-tick-label-text-and-frequency-in-matplotlib-plots/\n",
    "axs[1,0].set_xticklabels(axs[1,0].get_xticklabels(), rotation=45)\n",
    "# Tham khảo: https://saturncloud.io/blog/rotate-tick-labels-in-subplot-using-pyplot-matplotlib-and-gridspec/#:~:text=Rotating%20Tick%20Labels%20with%20Matplotlib,set_xticklabels()%20functions%20in%20Matplotlib.&text=Now%2C%20the%20x%2Daxis%20tick,there%20is%20no%20more%20overlapping."
   ]
  },
  {
   "cell_type": "code",
   "execution_count": 9,
   "id": "dfbc25cd-adb8-4025-8799-57ca9ec56281",
   "metadata": {},
   "outputs": [
    {
     "data": {
      "text/plain": [
       "<Figure size 640x480 with 0 Axes>"
      ]
     },
     "metadata": {},
     "output_type": "display_data"
    }
   ],
   "source": [
    "# Yêu cầu 5\n",
    "%matplotlib inline\n",
    "df_sub = df[['rating_normal']].dropna()\n",
    "z = np.abs(stats.zscore(df_sub.rating_normal))\n",
    "df_sub_2 = df_sub[z<0.3]\n",
    "axs[1,1].hist(df_sub_2.rating_normal, bins=5, density=True)\n",
    "axs[1,1].set_title('Histogram: Frequency of Normal Rating', fontsize=16)\n",
    "axs[1,1].set_xlabel('Normal Rating Score', fontsize=14)\n",
    "plt.delaxes(axs[1,2])\n",
    "plt.tight_layout()\n",
    "plt.show()"
   ]
  },
  {
   "cell_type": "code",
   "execution_count": null,
   "id": "0e8a8e8e-a416-4df0-a639-9046ea7c9b55",
   "metadata": {},
   "outputs": [],
   "source": []
  },
  {
   "cell_type": "code",
   "execution_count": null,
   "id": "63f4c564-d54b-4245-9f28-3d18d0fec1c1",
   "metadata": {},
   "outputs": [],
   "source": []
  },
  {
   "cell_type": "code",
   "execution_count": null,
   "id": "469ebd40-1ad2-47ed-8c83-975dd98431bc",
   "metadata": {},
   "outputs": [],
   "source": []
  },
  {
   "cell_type": "code",
   "execution_count": null,
   "id": "c1453647-2aa6-4e05-a14d-76eb878c05ad",
   "metadata": {},
   "outputs": [],
   "source": []
  },
  {
   "cell_type": "code",
   "execution_count": null,
   "id": "cc4182e2-69a3-47b0-a489-f8b661546307",
   "metadata": {},
   "outputs": [],
   "source": []
  },
  {
   "cell_type": "code",
   "execution_count": null,
   "id": "75c9f855-837e-4992-8453-8780f000c84f",
   "metadata": {},
   "outputs": [],
   "source": []
  },
  {
   "cell_type": "code",
   "execution_count": null,
   "id": "fe84d144-e73f-4508-89ca-130531b8700d",
   "metadata": {},
   "outputs": [],
   "source": []
  },
  {
   "cell_type": "code",
   "execution_count": null,
   "id": "8884dd16-3aba-4312-a63f-be81d7864662",
   "metadata": {},
   "outputs": [],
   "source": []
  },
  {
   "cell_type": "code",
   "execution_count": null,
   "id": "7e86448a-c4f4-4d84-8c6d-18244830a753",
   "metadata": {},
   "outputs": [],
   "source": []
  }
 ],
 "metadata": {
  "kernelspec": {
   "display_name": "Python 3 (ipykernel)",
   "language": "python",
   "name": "python3"
  },
  "language_info": {
   "codemirror_mode": {
    "name": "ipython",
    "version": 3
   },
   "file_extension": ".py",
   "mimetype": "text/x-python",
   "name": "python",
   "nbconvert_exporter": "python",
   "pygments_lexer": "ipython3",
   "version": "3.9.17"
  }
 },
 "nbformat": 4,
 "nbformat_minor": 5
}
